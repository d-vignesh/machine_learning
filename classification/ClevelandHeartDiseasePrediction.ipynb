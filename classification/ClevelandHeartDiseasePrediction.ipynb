{
 "cells": [
  {
   "cell_type": "markdown",
   "metadata": {},
   "source": [
    "###### Intro\n",
    "\n",
    "we are going the predict the presence of heart disease with the given data about the person\n",
    "\n",
    "data source : https://archive.ics.uci.edu/ml/datasets/Heart+Disease\n"
   ]
  },
  {
   "cell_type": "markdown",
   "metadata": {},
   "source": [
    "###### importing required packages"
   ]
  },
  {
   "cell_type": "code",
   "execution_count": 1,
   "metadata": {},
   "outputs": [],
   "source": [
    "# numeric and plotting\n",
    "import numpy as np\n",
    "import pandas as pd\n",
    "import matplotlib.pyplot as plt\n",
    "import seaborn as sns\n",
    "%matplotlib inline\n",
    "sns.set()\n",
    "\n",
    "# model\n",
    "from sklearn.linear_model import LogisticRegression\n",
    "from sklearn.linear_model import LogisticRegressionCV\n",
    "from sklearn.linear_model import RidgeClassifierCV\n",
    "from sklearn.naive_bayes import GaussianNB\n",
    "from sklearn.svm import SVC\n",
    "from sklearn.tree import DecisionTreeClassifier\n",
    "from sklearn.ensemble import RandomForestClassifier\n",
    "\n",
    "# metrics and preprocessing\n",
    "from sklearn import metrics\n",
    "from sklearn.model_selection import train_test_split"
   ]
  },
  {
   "cell_type": "code",
   "execution_count": 2,
   "metadata": {},
   "outputs": [],
   "source": [
    "data = pd.read_csv('Data/cleveland-Heart-disease-data.txt', \n",
    "                    names=['age', 'sex', 'pain', 'restbps', 'chol', 'fbs', 'restecg', 'maxheartrate', 'exang',\n",
    "                          'oldpeak', 'slope', 'ca', 'thal', 'num'],\n",
    "                   index_col=False)"
   ]
  },
  {
   "cell_type": "code",
   "execution_count": 3,
   "metadata": {},
   "outputs": [
    {
     "data": {
      "text/html": [
       "<div>\n",
       "<style scoped>\n",
       "    .dataframe tbody tr th:only-of-type {\n",
       "        vertical-align: middle;\n",
       "    }\n",
       "\n",
       "    .dataframe tbody tr th {\n",
       "        vertical-align: top;\n",
       "    }\n",
       "\n",
       "    .dataframe thead th {\n",
       "        text-align: right;\n",
       "    }\n",
       "</style>\n",
       "<table border=\"1\" class=\"dataframe\">\n",
       "  <thead>\n",
       "    <tr style=\"text-align: right;\">\n",
       "      <th></th>\n",
       "      <th>age</th>\n",
       "      <th>sex</th>\n",
       "      <th>pain</th>\n",
       "      <th>restbps</th>\n",
       "      <th>chol</th>\n",
       "      <th>fbs</th>\n",
       "      <th>restecg</th>\n",
       "      <th>maxheartrate</th>\n",
       "      <th>exang</th>\n",
       "      <th>oldpeak</th>\n",
       "      <th>slope</th>\n",
       "      <th>ca</th>\n",
       "      <th>thal</th>\n",
       "      <th>num</th>\n",
       "    </tr>\n",
       "  </thead>\n",
       "  <tbody>\n",
       "    <tr>\n",
       "      <th>0</th>\n",
       "      <td>63.0</td>\n",
       "      <td>1.0</td>\n",
       "      <td>1.0</td>\n",
       "      <td>145.0</td>\n",
       "      <td>233.0</td>\n",
       "      <td>1.0</td>\n",
       "      <td>2.0</td>\n",
       "      <td>150.0</td>\n",
       "      <td>0.0</td>\n",
       "      <td>2.3</td>\n",
       "      <td>3.0</td>\n",
       "      <td>0.0</td>\n",
       "      <td>6.0</td>\n",
       "      <td>0</td>\n",
       "    </tr>\n",
       "    <tr>\n",
       "      <th>1</th>\n",
       "      <td>67.0</td>\n",
       "      <td>1.0</td>\n",
       "      <td>4.0</td>\n",
       "      <td>160.0</td>\n",
       "      <td>286.0</td>\n",
       "      <td>0.0</td>\n",
       "      <td>2.0</td>\n",
       "      <td>108.0</td>\n",
       "      <td>1.0</td>\n",
       "      <td>1.5</td>\n",
       "      <td>2.0</td>\n",
       "      <td>3.0</td>\n",
       "      <td>3.0</td>\n",
       "      <td>2</td>\n",
       "    </tr>\n",
       "    <tr>\n",
       "      <th>2</th>\n",
       "      <td>67.0</td>\n",
       "      <td>1.0</td>\n",
       "      <td>4.0</td>\n",
       "      <td>120.0</td>\n",
       "      <td>229.0</td>\n",
       "      <td>0.0</td>\n",
       "      <td>2.0</td>\n",
       "      <td>129.0</td>\n",
       "      <td>1.0</td>\n",
       "      <td>2.6</td>\n",
       "      <td>2.0</td>\n",
       "      <td>2.0</td>\n",
       "      <td>7.0</td>\n",
       "      <td>1</td>\n",
       "    </tr>\n",
       "    <tr>\n",
       "      <th>3</th>\n",
       "      <td>37.0</td>\n",
       "      <td>1.0</td>\n",
       "      <td>3.0</td>\n",
       "      <td>130.0</td>\n",
       "      <td>250.0</td>\n",
       "      <td>0.0</td>\n",
       "      <td>0.0</td>\n",
       "      <td>187.0</td>\n",
       "      <td>0.0</td>\n",
       "      <td>3.5</td>\n",
       "      <td>3.0</td>\n",
       "      <td>0.0</td>\n",
       "      <td>3.0</td>\n",
       "      <td>0</td>\n",
       "    </tr>\n",
       "    <tr>\n",
       "      <th>4</th>\n",
       "      <td>41.0</td>\n",
       "      <td>0.0</td>\n",
       "      <td>2.0</td>\n",
       "      <td>130.0</td>\n",
       "      <td>204.0</td>\n",
       "      <td>0.0</td>\n",
       "      <td>2.0</td>\n",
       "      <td>172.0</td>\n",
       "      <td>0.0</td>\n",
       "      <td>1.4</td>\n",
       "      <td>1.0</td>\n",
       "      <td>0.0</td>\n",
       "      <td>3.0</td>\n",
       "      <td>0</td>\n",
       "    </tr>\n",
       "  </tbody>\n",
       "</table>\n",
       "</div>"
      ],
      "text/plain": [
       "    age  sex  pain  restbps   chol  fbs  restecg  maxheartrate  exang  \\\n",
       "0  63.0  1.0   1.0    145.0  233.0  1.0      2.0         150.0    0.0   \n",
       "1  67.0  1.0   4.0    160.0  286.0  0.0      2.0         108.0    1.0   \n",
       "2  67.0  1.0   4.0    120.0  229.0  0.0      2.0         129.0    1.0   \n",
       "3  37.0  1.0   3.0    130.0  250.0  0.0      0.0         187.0    0.0   \n",
       "4  41.0  0.0   2.0    130.0  204.0  0.0      2.0         172.0    0.0   \n",
       "\n",
       "   oldpeak  slope   ca thal  num  \n",
       "0      2.3    3.0  0.0  6.0    0  \n",
       "1      1.5    2.0  3.0  3.0    2  \n",
       "2      2.6    2.0  2.0  7.0    1  \n",
       "3      3.5    3.0  0.0  3.0    0  \n",
       "4      1.4    1.0  0.0  3.0    0  "
      ]
     },
     "execution_count": 3,
     "metadata": {},
     "output_type": "execute_result"
    }
   ],
   "source": [
    "data.head()"
   ]
  },
  {
   "cell_type": "markdown",
   "metadata": {},
   "source": [
    "###### description for the features of the dataset.\n",
    "the original dataset consists for 76 attributes. we make use of only 14 of them.\n",
    "\n",
    "1. age : age in years\n",
    "2. sex : sex(1 : male, 0 : female)\n",
    "3. cp  : type of the chest pain ( 1 : typical agina , 2 : atypical agina , 3 : non-aginal , 4 : asymtomatic )\n",
    "4. chol : serum cholestoral level in mg/dl\n",
    "5. trestbp : resting blood pressure in mm Hg( millimeter of mercury)\n",
    "6. fbs : fasting blood sugar ( 1 : if fbs > 120 mg/dl, 0 : if fbs < 120 mg/dl)\n",
    "7. restecg : resting electrocardiographic results( 0 : normal , 1 : having ST wave abnormality , 2 : showing probable or definite left venticular hypertrophy by Estes's criteria)\n",
    "8. thalach : maximum heart rate achieved.\n",
    "9. exang : excercise induced angina( 1 : yes , 0 : no)\n",
    "10. oldpeak : st depression induced by excercise relative to rest\n",
    "11. slope : slope of peak exercise ST segment(1 : unslopping, 2 : flat, 3 : downslopping)\n",
    "12. ca : number of major vessels(0-3) coloured by flourosopy.\n",
    "13. thal : a blood disorder called thalassemia ( 3 : normal , 6 : fixed defect , 7 : reversable defect))\n",
    "14. num : heart disease( 0 : no, 1 : yes )"
   ]
  },
  {
   "cell_type": "markdown",
   "metadata": {},
   "source": [
    "###### performing null check and understanding basic information and statistics of the dataset"
   ]
  },
  {
   "cell_type": "code",
   "execution_count": 4,
   "metadata": {},
   "outputs": [
    {
     "data": {
      "text/plain": [
       "age             False\n",
       "sex             False\n",
       "pain            False\n",
       "restbps         False\n",
       "chol            False\n",
       "fbs             False\n",
       "restecg         False\n",
       "maxheartrate    False\n",
       "exang           False\n",
       "oldpeak         False\n",
       "slope           False\n",
       "ca              False\n",
       "thal            False\n",
       "num             False\n",
       "dtype: bool"
      ]
     },
     "execution_count": 4,
     "metadata": {},
     "output_type": "execute_result"
    }
   ],
   "source": [
    "data.isnull().any()"
   ]
  },
  {
   "cell_type": "code",
   "execution_count": 5,
   "metadata": {},
   "outputs": [
    {
     "name": "stdout",
     "output_type": "stream",
     "text": [
      "<class 'pandas.core.frame.DataFrame'>\n",
      "RangeIndex: 303 entries, 0 to 302\n",
      "Data columns (total 14 columns):\n",
      "age             303 non-null float64\n",
      "sex             303 non-null float64\n",
      "pain            303 non-null float64\n",
      "restbps         303 non-null float64\n",
      "chol            303 non-null float64\n",
      "fbs             303 non-null float64\n",
      "restecg         303 non-null float64\n",
      "maxheartrate    303 non-null float64\n",
      "exang           303 non-null float64\n",
      "oldpeak         303 non-null float64\n",
      "slope           303 non-null float64\n",
      "ca              303 non-null object\n",
      "thal            303 non-null object\n",
      "num             303 non-null int64\n",
      "dtypes: float64(11), int64(1), object(2)\n",
      "memory usage: 33.2+ KB\n"
     ]
    }
   ],
   "source": [
    "data.info()"
   ]
  },
  {
   "cell_type": "code",
   "execution_count": 6,
   "metadata": {},
   "outputs": [
    {
     "data": {
      "text/html": [
       "<div>\n",
       "<style scoped>\n",
       "    .dataframe tbody tr th:only-of-type {\n",
       "        vertical-align: middle;\n",
       "    }\n",
       "\n",
       "    .dataframe tbody tr th {\n",
       "        vertical-align: top;\n",
       "    }\n",
       "\n",
       "    .dataframe thead th {\n",
       "        text-align: right;\n",
       "    }\n",
       "</style>\n",
       "<table border=\"1\" class=\"dataframe\">\n",
       "  <thead>\n",
       "    <tr style=\"text-align: right;\">\n",
       "      <th></th>\n",
       "      <th>age</th>\n",
       "      <th>sex</th>\n",
       "      <th>pain</th>\n",
       "      <th>restbps</th>\n",
       "      <th>chol</th>\n",
       "      <th>fbs</th>\n",
       "      <th>restecg</th>\n",
       "      <th>maxheartrate</th>\n",
       "      <th>exang</th>\n",
       "      <th>oldpeak</th>\n",
       "      <th>slope</th>\n",
       "      <th>num</th>\n",
       "    </tr>\n",
       "  </thead>\n",
       "  <tbody>\n",
       "    <tr>\n",
       "      <th>count</th>\n",
       "      <td>303.000000</td>\n",
       "      <td>303.000000</td>\n",
       "      <td>303.000000</td>\n",
       "      <td>303.000000</td>\n",
       "      <td>303.000000</td>\n",
       "      <td>303.000000</td>\n",
       "      <td>303.000000</td>\n",
       "      <td>303.000000</td>\n",
       "      <td>303.000000</td>\n",
       "      <td>303.000000</td>\n",
       "      <td>303.000000</td>\n",
       "      <td>303.000000</td>\n",
       "    </tr>\n",
       "    <tr>\n",
       "      <th>mean</th>\n",
       "      <td>54.438944</td>\n",
       "      <td>0.679868</td>\n",
       "      <td>3.158416</td>\n",
       "      <td>131.689769</td>\n",
       "      <td>246.693069</td>\n",
       "      <td>0.148515</td>\n",
       "      <td>0.990099</td>\n",
       "      <td>149.607261</td>\n",
       "      <td>0.326733</td>\n",
       "      <td>1.039604</td>\n",
       "      <td>1.600660</td>\n",
       "      <td>0.937294</td>\n",
       "    </tr>\n",
       "    <tr>\n",
       "      <th>std</th>\n",
       "      <td>9.038662</td>\n",
       "      <td>0.467299</td>\n",
       "      <td>0.960126</td>\n",
       "      <td>17.599748</td>\n",
       "      <td>51.776918</td>\n",
       "      <td>0.356198</td>\n",
       "      <td>0.994971</td>\n",
       "      <td>22.875003</td>\n",
       "      <td>0.469794</td>\n",
       "      <td>1.161075</td>\n",
       "      <td>0.616226</td>\n",
       "      <td>1.228536</td>\n",
       "    </tr>\n",
       "    <tr>\n",
       "      <th>min</th>\n",
       "      <td>29.000000</td>\n",
       "      <td>0.000000</td>\n",
       "      <td>1.000000</td>\n",
       "      <td>94.000000</td>\n",
       "      <td>126.000000</td>\n",
       "      <td>0.000000</td>\n",
       "      <td>0.000000</td>\n",
       "      <td>71.000000</td>\n",
       "      <td>0.000000</td>\n",
       "      <td>0.000000</td>\n",
       "      <td>1.000000</td>\n",
       "      <td>0.000000</td>\n",
       "    </tr>\n",
       "    <tr>\n",
       "      <th>25%</th>\n",
       "      <td>48.000000</td>\n",
       "      <td>0.000000</td>\n",
       "      <td>3.000000</td>\n",
       "      <td>120.000000</td>\n",
       "      <td>211.000000</td>\n",
       "      <td>0.000000</td>\n",
       "      <td>0.000000</td>\n",
       "      <td>133.500000</td>\n",
       "      <td>0.000000</td>\n",
       "      <td>0.000000</td>\n",
       "      <td>1.000000</td>\n",
       "      <td>0.000000</td>\n",
       "    </tr>\n",
       "    <tr>\n",
       "      <th>50%</th>\n",
       "      <td>56.000000</td>\n",
       "      <td>1.000000</td>\n",
       "      <td>3.000000</td>\n",
       "      <td>130.000000</td>\n",
       "      <td>241.000000</td>\n",
       "      <td>0.000000</td>\n",
       "      <td>1.000000</td>\n",
       "      <td>153.000000</td>\n",
       "      <td>0.000000</td>\n",
       "      <td>0.800000</td>\n",
       "      <td>2.000000</td>\n",
       "      <td>0.000000</td>\n",
       "    </tr>\n",
       "    <tr>\n",
       "      <th>75%</th>\n",
       "      <td>61.000000</td>\n",
       "      <td>1.000000</td>\n",
       "      <td>4.000000</td>\n",
       "      <td>140.000000</td>\n",
       "      <td>275.000000</td>\n",
       "      <td>0.000000</td>\n",
       "      <td>2.000000</td>\n",
       "      <td>166.000000</td>\n",
       "      <td>1.000000</td>\n",
       "      <td>1.600000</td>\n",
       "      <td>2.000000</td>\n",
       "      <td>2.000000</td>\n",
       "    </tr>\n",
       "    <tr>\n",
       "      <th>max</th>\n",
       "      <td>77.000000</td>\n",
       "      <td>1.000000</td>\n",
       "      <td>4.000000</td>\n",
       "      <td>200.000000</td>\n",
       "      <td>564.000000</td>\n",
       "      <td>1.000000</td>\n",
       "      <td>2.000000</td>\n",
       "      <td>202.000000</td>\n",
       "      <td>1.000000</td>\n",
       "      <td>6.200000</td>\n",
       "      <td>3.000000</td>\n",
       "      <td>4.000000</td>\n",
       "    </tr>\n",
       "  </tbody>\n",
       "</table>\n",
       "</div>"
      ],
      "text/plain": [
       "              age         sex        pain     restbps        chol         fbs  \\\n",
       "count  303.000000  303.000000  303.000000  303.000000  303.000000  303.000000   \n",
       "mean    54.438944    0.679868    3.158416  131.689769  246.693069    0.148515   \n",
       "std      9.038662    0.467299    0.960126   17.599748   51.776918    0.356198   \n",
       "min     29.000000    0.000000    1.000000   94.000000  126.000000    0.000000   \n",
       "25%     48.000000    0.000000    3.000000  120.000000  211.000000    0.000000   \n",
       "50%     56.000000    1.000000    3.000000  130.000000  241.000000    0.000000   \n",
       "75%     61.000000    1.000000    4.000000  140.000000  275.000000    0.000000   \n",
       "max     77.000000    1.000000    4.000000  200.000000  564.000000    1.000000   \n",
       "\n",
       "          restecg  maxheartrate       exang     oldpeak       slope  \\\n",
       "count  303.000000    303.000000  303.000000  303.000000  303.000000   \n",
       "mean     0.990099    149.607261    0.326733    1.039604    1.600660   \n",
       "std      0.994971     22.875003    0.469794    1.161075    0.616226   \n",
       "min      0.000000     71.000000    0.000000    0.000000    1.000000   \n",
       "25%      0.000000    133.500000    0.000000    0.000000    1.000000   \n",
       "50%      1.000000    153.000000    0.000000    0.800000    2.000000   \n",
       "75%      2.000000    166.000000    1.000000    1.600000    2.000000   \n",
       "max      2.000000    202.000000    1.000000    6.200000    3.000000   \n",
       "\n",
       "              num  \n",
       "count  303.000000  \n",
       "mean     0.937294  \n",
       "std      1.228536  \n",
       "min      0.000000  \n",
       "25%      0.000000  \n",
       "50%      0.000000  \n",
       "75%      2.000000  \n",
       "max      4.000000  "
      ]
     },
     "execution_count": 6,
     "metadata": {},
     "output_type": "execute_result"
    }
   ],
   "source": [
    "data.describe()"
   ]
  },
  {
   "cell_type": "markdown",
   "metadata": {},
   "source": [
    " let us just check only the presence of heart disease and not the status of the disease. so we can convert\n",
    " the 'num' column as new column of '0' for absence of disease and '1' for persence of disease"
   ]
  },
  {
   "cell_type": "code",
   "execution_count": 143,
   "metadata": {},
   "outputs": [],
   "source": [
    "data['hd'] = np.where(data['num'] > 0, 1, 0)\n",
    "data.drop('num', axis=1, inplace=True)"
   ]
  },
  {
   "cell_type": "markdown",
   "metadata": {},
   "source": [
    "###### visualizing the data"
   ]
  },
  {
   "cell_type": "markdown",
   "metadata": {},
   "source": [
    "plot the correlation plot to understand the correlation between the attributes"
   ]
  },
  {
   "cell_type": "code",
   "execution_count": 24,
   "metadata": {},
   "outputs": [
    {
     "data": {
      "text/plain": [
       "<matplotlib.axes._subplots.AxesSubplot at 0x114415898>"
      ]
     },
     "execution_count": 24,
     "metadata": {},
     "output_type": "execute_result"
    },
    {
     "data": {
      "image/png": "[encoded data removed]",
      "text/plain": [
       "<Figure size 1152x576 with 2 Axes>"
      ]
     },
     "metadata": {
      "needs_background": "light"
     },
     "output_type": "display_data"
    }
   ],
   "source": [
    "plt.figure(figsize=(16,8))\n",
    "sns.heatmap(data.corr(), cmap='YlGnBu', annot=True)"
   ]
  },
  {
   "cell_type": "code",
   "execution_count": 25,
   "metadata": {},
   "outputs": [
    {
     "data": {
      "image/png": "[encoded data removed]",
      "text/plain": [
       "<Figure size 954.975x720 with 2 Axes>"
      ]
     },
     "metadata": {
      "needs_background": "light"
     },
     "output_type": "display_data"
    }
   ],
   "source": [
    "grid = sns.FacetGrid(data, row='hd', hue='sex', margin_titles=True, height=5, aspect=2.5)\n",
    "grid_obj = grid.map(plt.hist, 'age', alpha=0.5).add_legend()\n",
    "lab = ['female', 'male']\n",
    "for t, l in zip(grid_obj._legend.texts, lab):\n",
    "    t.set_text(l)"
   ]
  },
  {
   "cell_type": "markdown",
   "metadata": {},
   "source": [
    "it seems like data we have has a majority sample of male with heart disease and most of them \n",
    "are in the age to 55-65"
   ]
  },
  {
   "cell_type": "code",
   "execution_count": 26,
   "metadata": {},
   "outputs": [
    {
     "data": {
      "text/plain": [
       "<matplotlib.axes._subplots.AxesSubplot at 0x114412e80>"
      ]
     },
     "execution_count": 26,
     "metadata": {},
     "output_type": "execute_result"
    },
    {
     "data": {
      "image/png": "[encoded data removed]",
      "text/plain": [
       "<Figure size 432x288 with 1 Axes>"
      ]
     },
     "metadata": {
      "needs_background": "light"
     },
     "output_type": "display_data"
    }
   ],
   "source": [
    "sns.countplot(x='pain', hue='hd', data=data)"
   ]
  },
  {
   "cell_type": "markdown",
   "metadata": {},
   "source": [
    "seems like people with the asymptomatic(type 4) have the highest posibility of having heart disease."
   ]
  },
  {
   "cell_type": "code",
   "execution_count": 27,
   "metadata": {},
   "outputs": [
    {
     "data": {
      "text/plain": [
       "Text(0.5,1,'male')"
      ]
     },
     "execution_count": 27,
     "metadata": {},
     "output_type": "execute_result"
    },
    {
     "data": {
      "image/png": "[encoded data removed]",
      "text/plain": [
       "<Figure size 728.8x360 with 2 Axes>"
      ]
     },
     "metadata": {
      "needs_background": "light"
     },
     "output_type": "display_data"
    }
   ],
   "source": [
    "grid = sns.catplot(x='hd', y='restbps', data=data, col='sex', kind='swarm').add_legend()\n",
    "axes = grid.axes.flatten()\n",
    "axes[0].set_title('female')\n",
    "axes[1].set_title('male')"
   ]
  },
  {
   "cell_type": "markdown",
   "metadata": {},
   "source": [
    "the resting blood pressure do not have any strong indication of a heart disease.the level are somewhat equal\n",
    "in both people with heart disease and without heart disease."
   ]
  },
  {
   "cell_type": "code",
   "execution_count": 17,
   "metadata": {},
   "outputs": [
    {
     "data": {
      "text/plain": [
       "Text(0.5,1,'male')"
      ]
     },
     "execution_count": 17,
     "metadata": {},
     "output_type": "execute_result"
    },
    {
     "data": {
      "image/png": "[encoded data removed]",
      "text/plain": [
       "<Figure size 728.8x360 with 2 Axes>"
      ]
     },
     "metadata": {
      "needs_background": "light"
     },
     "output_type": "display_data"
    }
   ],
   "source": [
    "grid = sns.catplot(x='hd', y='chol', data=data, col='sex', kind='boxen').add_legend()\n",
    "axes = grid.axes.flatten()\n",
    "axes[0].set_title('female')\n",
    "axes[1].set_title('male')"
   ]
  },
  {
   "cell_type": "markdown",
   "metadata": {},
   "source": [
    "most people with heart disease tend to have a cholestrol level around 300"
   ]
  },
  {
   "cell_type": "code",
   "execution_count": 28,
   "metadata": {},
   "outputs": [
    {
     "data": {
      "text/plain": [
       "[Text(0,0,'fbs < 120'), Text(0,0,'fbs > 120')]"
      ]
     },
     "execution_count": 28,
     "metadata": {},
     "output_type": "execute_result"
    },
    {
     "data": {
      "image/png": "[encoded data removed]",
      "text/plain": [
       "<Figure size 432x288 with 1 Axes>"
      ]
     },
     "metadata": {
      "needs_background": "light"
     },
     "output_type": "display_data"
    }
   ],
   "source": [
    "grid = sns.countplot(x='fbs', hue='hd', data=data)\n",
    "grid.set_xticklabels(['fbs < 120', 'fbs > 120'])"
   ]
  },
  {
   "cell_type": "code",
   "execution_count": 29,
   "metadata": {},
   "outputs": [
    {
     "data": {
      "image/png": "[encoded data removed]",
      "text/plain": [
       "<Figure size 432x288 with 1 Axes>"
      ]
     },
     "metadata": {
      "needs_background": "light"
     },
     "output_type": "display_data"
    }
   ],
   "source": [
    "grid = sns.countplot(x='restecg', hue='hd', data=data)"
   ]
  },
  {
   "cell_type": "code",
   "execution_count": 30,
   "metadata": {},
   "outputs": [
    {
     "data": {
      "text/plain": [
       "Text(0.5,1,'male')"
      ]
     },
     "execution_count": 30,
     "metadata": {},
     "output_type": "execute_result"
    },
    {
     "data": {
      "image/png": "[encoded data removed]",
      "text/plain": [
       "<Figure size 728.8x360 with 2 Axes>"
      ]
     },
     "metadata": {
      "needs_background": "light"
     },
     "output_type": "display_data"
    }
   ],
   "source": [
    "grid = sns.catplot(x='hd', y='maxheartrate', data=data, col='sex', kind='boxen').add_legend()\n",
    "axes = grid.axes.flatten()\n",
    "axes[0].set_title('female')\n",
    "axes[1].set_title('male')"
   ]
  },
  {
   "cell_type": "markdown",
   "metadata": {},
   "source": [
    "seems like people with heart disease do have lesser heartrates."
   ]
  },
  {
   "cell_type": "code",
   "execution_count": 31,
   "metadata": {},
   "outputs": [
    {
     "data": {
      "image/png": "[encoded data removed]",
      "text/plain": [
       "<Figure size 432x288 with 1 Axes>"
      ]
     },
     "metadata": {
      "needs_background": "light"
     },
     "output_type": "display_data"
    }
   ],
   "source": [
    "grid = sns.countplot(x='exang', hue='hd', data=data)"
   ]
  },
  {
   "cell_type": "code",
   "execution_count": 32,
   "metadata": {},
   "outputs": [
    {
     "data": {
      "text/plain": [
       "Text(0.5,1,'male')"
      ]
     },
     "execution_count": 32,
     "metadata": {},
     "output_type": "execute_result"
    },
    {
     "data": {
      "image/png": "[encoded data removed]",
      "text/plain": [
       "<Figure size 720x360 with 2 Axes>"
      ]
     },
     "metadata": {
      "needs_background": "light"
     },
     "output_type": "display_data"
    }
   ],
   "source": [
    "grid = sns.catplot(x='hd', y='oldpeak', data=data, col='sex', kind='swarm')\n",
    "axes = grid.axes.flatten()\n",
    "axes[0].set_title('female')\n",
    "axes[1].set_title('male')"
   ]
  },
  {
   "cell_type": "markdown",
   "metadata": {},
   "source": [
    "a higher oldpeak(depression induced by exercise relative to rest) gives more chances of heart disease."
   ]
  },
  {
   "cell_type": "code",
   "execution_count": 34,
   "metadata": {},
   "outputs": [
    {
     "data": {
      "text/plain": [
       "Text(0.5,1,'slope of peak excercise ST segment')"
      ]
     },
     "execution_count": 34,
     "metadata": {},
     "output_type": "execute_result"
    },
    {
     "data": {
      "image/png": "[encoded data removed]",
      "text/plain": [
       "<Figure size 432x288 with 1 Axes>"
      ]
     },
     "metadata": {
      "needs_background": "light"
     },
     "output_type": "display_data"
    }
   ],
   "source": [
    "grid = sns.countplot(x='slope', hue='hd', data=data)\n",
    "grid.set_xticklabels(['upsloping', 'flattening', 'downsloping'])\n",
    "grid.set_title('slope of peak excercise ST segment')"
   ]
  },
  {
   "cell_type": "markdown",
   "metadata": {},
   "source": [
    "the 'thal' and 'ca' column some undefined values which are filled as '?'. lets remove them first."
   ]
  },
  {
   "cell_type": "code",
   "execution_count": 144,
   "metadata": {},
   "outputs": [],
   "source": [
    "data = data.drop(data[data['thal'] == '?'].index)"
   ]
  },
  {
   "cell_type": "code",
   "execution_count": 145,
   "metadata": {},
   "outputs": [],
   "source": [
    "data = data.drop(data[data['ca'] == '?'].index)"
   ]
  },
  {
   "cell_type": "code",
   "execution_count": 60,
   "metadata": {},
   "outputs": [
    {
     "data": {
      "text/plain": [
       "<matplotlib.axes._subplots.AxesSubplot at 0x1a213e5e80>"
      ]
     },
     "execution_count": 60,
     "metadata": {},
     "output_type": "execute_result"
    },
    {
     "data": {
      "image/png": "[encoded data removed]",
      "text/plain": [
       "<Figure size 432x288 with 1 Axes>"
      ]
     },
     "metadata": {
      "needs_background": "light"
     },
     "output_type": "display_data"
    }
   ],
   "source": [
    "sns.countplot(x='thal', hue='hd', data=data)"
   ]
  },
  {
   "cell_type": "code",
   "execution_count": 61,
   "metadata": {},
   "outputs": [
    {
     "data": {
      "text/plain": [
       "<matplotlib.axes._subplots.AxesSubplot at 0x1a214b6d68>"
      ]
     },
     "execution_count": 61,
     "metadata": {},
     "output_type": "execute_result"
    },
    {
     "data": {
      "image/png": "[encoded data removed]",
      "text/plain": [
       "<Figure size 432x288 with 1 Axes>"
      ]
     },
     "metadata": {
      "needs_background": "light"
     },
     "output_type": "display_data"
    }
   ],
   "source": [
    "sns.countplot(x='ca', hue='hd', data=data)"
   ]
  },
  {
   "cell_type": "markdown",
   "metadata": {},
   "source": [
    "people who have less vessels have more chance of having heard disorder."
   ]
  },
  {
   "cell_type": "markdown",
   "metadata": {},
   "source": [
    "###### preprocessing of the data"
   ]
  },
  {
   "cell_type": "markdown",
   "metadata": {},
   "source": [
    "first convert the columns with categorical values to categorical types."
   ]
  },
  {
   "cell_type": "code",
   "execution_count": 146,
   "metadata": {},
   "outputs": [
    {
     "data": {
      "text/plain": [
       "age             float64\n",
       "sex             float64\n",
       "pain            float64\n",
       "restbps         float64\n",
       "chol            float64\n",
       "fbs             float64\n",
       "restecg         float64\n",
       "maxheartrate    float64\n",
       "exang           float64\n",
       "oldpeak         float64\n",
       "slope           float64\n",
       "ca               object\n",
       "thal             object\n",
       "hd                int64\n",
       "dtype: object"
      ]
     },
     "execution_count": 146,
     "metadata": {},
     "output_type": "execute_result"
    }
   ],
   "source": [
    "data.dtypes"
   ]
  },
  {
   "cell_type": "code",
   "execution_count": 147,
   "metadata": {},
   "outputs": [],
   "source": [
    "data['sex'] = data['sex'].astype('object')\n",
    "data['pain'] = data['pain'].astype('object')\n",
    "data['fbs'] = data['fbs'].astype('object')\n",
    "data['restecg'] = data['restecg'].astype('object')\n",
    "data['exang'] = data['exang'].astype('object')\n",
    "data['thal'] = data['thal'].astype('object')\n",
    "data['slope'] = data['slope'].astype('object')\n",
    "data['ca'] = (data['ca'].astype('float64')).astype('int64')"
   ]
  },
  {
   "cell_type": "code",
   "execution_count": 148,
   "metadata": {},
   "outputs": [
    {
     "data": {
      "text/plain": [
       "age             float64\n",
       "sex              object\n",
       "pain             object\n",
       "restbps         float64\n",
       "chol            float64\n",
       "fbs              object\n",
       "restecg          object\n",
       "maxheartrate    float64\n",
       "exang            object\n",
       "oldpeak         float64\n",
       "slope            object\n",
       "ca                int64\n",
       "thal             object\n",
       "hd                int64\n",
       "dtype: object"
      ]
     },
     "execution_count": 148,
     "metadata": {},
     "output_type": "execute_result"
    }
   ],
   "source": [
    "data.dtypes"
   ]
  },
  {
   "cell_type": "markdown",
   "metadata": {},
   "source": [
    "also change to value of the categorical columns"
   ]
  },
  {
   "cell_type": "code",
   "execution_count": 149,
   "metadata": {},
   "outputs": [],
   "source": [
    "data['sex'] = np.where(data['sex'] == 1.0, 'male', 'female')\n",
    "\n",
    "data.loc[data['pain'] == 1, 'pain'] = 'typical agina'\n",
    "data.loc[data['pain'] == 2, 'pain'] = 'atypical agina'\n",
    "data.loc[data['pain'] == 3, 'pain'] = 'non aginal'\n",
    "data.loc[data['pain'] == 4, 'pain'] = 'asymtomatic'\n",
    "\n",
    "data.loc[data['fbs'] == 1, 'fbs'] = 'greater than 120 mg/dl'\n",
    "data.loc[data['fbs'] == 0, 'fbs'] = 'lower than 120 mg/dl'\n",
    "\n",
    "data.loc[data['exang'] == 1, 'exang'] = 'yes'\n",
    "data.loc[data['exang'] == 0, 'exang'] = 'no'\n",
    "\n",
    "data.loc[data['restecg'] == 0, 'restecg'] = 'normal'\n",
    "data.loc[data['restecg'] == 1, 'restecg'] = 'st-t wave abnormality'\n",
    "data.loc[data['restecg'] == 2, 'restecg'] = 'left ventricular hypertrophy'\n",
    "\n",
    "data.loc[data['slope'] == 1, 'slope'] = 'unsloping'\n",
    "data.loc[data['slope'] == 2, 'slope'] = 'flat'\n",
    "data.loc[data['slope'] == 3, 'slope'] = 'downsloping'\n",
    "\n",
    "data.loc[data['thal'] == 3.0, 'thal'] = 'normal'\n",
    "data.loc[data['thal'] == 6.0, 'thal'] = 'fixed defect'\n",
    "data.loc[data['thal'] == 7.0, 'thal'] = 'reversable defect'"
   ]
  },
  {
   "cell_type": "code",
   "execution_count": 150,
   "metadata": {},
   "outputs": [],
   "source": [
    "data = pd.get_dummies(data, drop_first=True)"
   ]
  },
  {
   "cell_type": "markdown",
   "metadata": {},
   "source": [
    "normalize the numerical columns to adjust them to same scale."
   ]
  },
  {
   "cell_type": "code",
   "execution_count": 151,
   "metadata": {},
   "outputs": [],
   "source": [
    "def feature_normalize(X):\n",
    "    \n",
    "    mean = np.mean(X, axis=0)\n",
    "    std = np.std(X, axis=0)\n",
    "    \n",
    "    return (X - mean) / std"
   ]
  },
  {
   "cell_type": "code",
   "execution_count": 152,
   "metadata": {},
   "outputs": [],
   "source": [
    "feature_to_norm = ['age', 'restbps', 'chol', 'maxheartrate', 'oldpeak']\n",
    "\n",
    "data[feature_to_norm] = data[feature_to_norm].apply(lambda x : feature_normalize(x))"
   ]
  },
  {
   "cell_type": "code",
   "execution_count": 153,
   "metadata": {},
   "outputs": [
    {
     "data": {
      "text/html": [
       "<div>\n",
       "<style scoped>\n",
       "    .dataframe tbody tr th:only-of-type {\n",
       "        vertical-align: middle;\n",
       "    }\n",
       "\n",
       "    .dataframe tbody tr th {\n",
       "        vertical-align: top;\n",
       "    }\n",
       "\n",
       "    .dataframe thead th {\n",
       "        text-align: right;\n",
       "    }\n",
       "</style>\n",
       "<table border=\"1\" class=\"dataframe\">\n",
       "  <thead>\n",
       "    <tr style=\"text-align: right;\">\n",
       "      <th></th>\n",
       "      <th>age</th>\n",
       "      <th>restbps</th>\n",
       "      <th>chol</th>\n",
       "      <th>maxheartrate</th>\n",
       "      <th>oldpeak</th>\n",
       "      <th>ca</th>\n",
       "      <th>hd</th>\n",
       "      <th>sex_male</th>\n",
       "      <th>pain_atypical agina</th>\n",
       "      <th>pain_non aginal</th>\n",
       "      <th>pain_typical agina</th>\n",
       "      <th>fbs_lower than 120 mg/dl</th>\n",
       "      <th>restecg_normal</th>\n",
       "      <th>restecg_st-t wave abnormality</th>\n",
       "      <th>exang_yes</th>\n",
       "      <th>slope_flat</th>\n",
       "      <th>slope_unsloping</th>\n",
       "      <th>thal_6.0</th>\n",
       "      <th>thal_7.0</th>\n",
       "    </tr>\n",
       "  </thead>\n",
       "  <tbody>\n",
       "    <tr>\n",
       "      <th>0</th>\n",
       "      <td>0.936181</td>\n",
       "      <td>0.750380</td>\n",
       "      <td>-0.276443</td>\n",
       "      <td>0.017494</td>\n",
       "      <td>1.068965</td>\n",
       "      <td>0</td>\n",
       "      <td>0</td>\n",
       "      <td>1</td>\n",
       "      <td>0</td>\n",
       "      <td>0</td>\n",
       "      <td>1</td>\n",
       "      <td>0</td>\n",
       "      <td>0</td>\n",
       "      <td>0</td>\n",
       "      <td>0</td>\n",
       "      <td>0</td>\n",
       "      <td>0</td>\n",
       "      <td>1</td>\n",
       "      <td>0</td>\n",
       "    </tr>\n",
       "    <tr>\n",
       "      <th>1</th>\n",
       "      <td>1.378929</td>\n",
       "      <td>1.596266</td>\n",
       "      <td>0.744555</td>\n",
       "      <td>-1.816334</td>\n",
       "      <td>0.381773</td>\n",
       "      <td>3</td>\n",
       "      <td>1</td>\n",
       "      <td>1</td>\n",
       "      <td>0</td>\n",
       "      <td>0</td>\n",
       "      <td>0</td>\n",
       "      <td>1</td>\n",
       "      <td>0</td>\n",
       "      <td>0</td>\n",
       "      <td>1</td>\n",
       "      <td>1</td>\n",
       "      <td>0</td>\n",
       "      <td>0</td>\n",
       "      <td>0</td>\n",
       "    </tr>\n",
       "    <tr>\n",
       "      <th>2</th>\n",
       "      <td>1.378929</td>\n",
       "      <td>-0.659431</td>\n",
       "      <td>-0.353500</td>\n",
       "      <td>-0.899420</td>\n",
       "      <td>1.326662</td>\n",
       "      <td>2</td>\n",
       "      <td>1</td>\n",
       "      <td>1</td>\n",
       "      <td>0</td>\n",
       "      <td>0</td>\n",
       "      <td>0</td>\n",
       "      <td>1</td>\n",
       "      <td>0</td>\n",
       "      <td>0</td>\n",
       "      <td>1</td>\n",
       "      <td>1</td>\n",
       "      <td>0</td>\n",
       "      <td>0</td>\n",
       "      <td>1</td>\n",
       "    </tr>\n",
       "    <tr>\n",
       "      <th>3</th>\n",
       "      <td>-1.941680</td>\n",
       "      <td>-0.095506</td>\n",
       "      <td>0.051047</td>\n",
       "      <td>1.633010</td>\n",
       "      <td>2.099753</td>\n",
       "      <td>0</td>\n",
       "      <td>0</td>\n",
       "      <td>1</td>\n",
       "      <td>0</td>\n",
       "      <td>1</td>\n",
       "      <td>0</td>\n",
       "      <td>1</td>\n",
       "      <td>1</td>\n",
       "      <td>0</td>\n",
       "      <td>0</td>\n",
       "      <td>0</td>\n",
       "      <td>0</td>\n",
       "      <td>0</td>\n",
       "      <td>0</td>\n",
       "    </tr>\n",
       "    <tr>\n",
       "      <th>4</th>\n",
       "      <td>-1.498933</td>\n",
       "      <td>-0.095506</td>\n",
       "      <td>-0.835103</td>\n",
       "      <td>0.978071</td>\n",
       "      <td>0.295874</td>\n",
       "      <td>0</td>\n",
       "      <td>0</td>\n",
       "      <td>0</td>\n",
       "      <td>1</td>\n",
       "      <td>0</td>\n",
       "      <td>0</td>\n",
       "      <td>1</td>\n",
       "      <td>0</td>\n",
       "      <td>0</td>\n",
       "      <td>0</td>\n",
       "      <td>0</td>\n",
       "      <td>1</td>\n",
       "      <td>0</td>\n",
       "      <td>0</td>\n",
       "    </tr>\n",
       "  </tbody>\n",
       "</table>\n",
       "</div>"
      ],
      "text/plain": [
       "        age   restbps      chol  maxheartrate   oldpeak  ca  hd  sex_male  \\\n",
       "0  0.936181  0.750380 -0.276443      0.017494  1.068965   0   0         1   \n",
       "1  1.378929  1.596266  0.744555     -1.816334  0.381773   3   1         1   \n",
       "2  1.378929 -0.659431 -0.353500     -0.899420  1.326662   2   1         1   \n",
       "3 -1.941680 -0.095506  0.051047      1.633010  2.099753   0   0         1   \n",
       "4 -1.498933 -0.095506 -0.835103      0.978071  0.295874   0   0         0   \n",
       "\n",
       "   pain_atypical agina  pain_non aginal  pain_typical agina  \\\n",
       "0                    0                0                   1   \n",
       "1                    0                0                   0   \n",
       "2                    0                0                   0   \n",
       "3                    0                1                   0   \n",
       "4                    1                0                   0   \n",
       "\n",
       "   fbs_lower than 120 mg/dl  restecg_normal  restecg_st-t wave abnormality  \\\n",
       "0                         0               0                              0   \n",
       "1                         1               0                              0   \n",
       "2                         1               0                              0   \n",
       "3                         1               1                              0   \n",
       "4                         1               0                              0   \n",
       "\n",
       "   exang_yes  slope_flat  slope_unsloping  thal_6.0  thal_7.0  \n",
       "0          0           0                0         1         0  \n",
       "1          1           1                0         0         0  \n",
       "2          1           1                0         0         1  \n",
       "3          0           0                0         0         0  \n",
       "4          0           0                1         0         0  "
      ]
     },
     "execution_count": 153,
     "metadata": {},
     "output_type": "execute_result"
    }
   ],
   "source": [
    "data.head()"
   ]
  },
  {
   "cell_type": "markdown",
   "metadata": {},
   "source": [
    "###### model evaluation"
   ]
  },
  {
   "cell_type": "code",
   "execution_count": 169,
   "metadata": {},
   "outputs": [],
   "source": [
    "def evaluate_model(y_true, y_predict):\n",
    "    \n",
    "    accuracy_score = metrics.accuracy_score(y_true, y_predict)\n",
    "    print(f'accuracy score : {accuracy_score}\\n')\n",
    "    \n",
    "    print('classification report : ')\n",
    "    print(metrics.classification_report(y_true, y_predict, target_names=['has disorder', 'no disorder']))\n",
    "    \n",
    "    print('confusion matrix : ')\n",
    "    print(metrics.confusion_matrix(y_true, y_predict))\n",
    "    \n",
    "    "
   ]
  },
  {
   "cell_type": "markdown",
   "metadata": {},
   "source": [
    "###### models"
   ]
  },
  {
   "cell_type": "code",
   "execution_count": 158,
   "metadata": {},
   "outputs": [],
   "source": [
    "X_train, X_test, y_train, y_test = train_test_split(data.drop('hd', axis=1), data['hd'], test_size = 0.20, random_state = 30)"
   ]
  },
  {
   "cell_type": "markdown",
   "metadata": {},
   "source": [
    "LogisticRegression"
   ]
  },
  {
   "cell_type": "code",
   "execution_count": 249,
   "metadata": {},
   "outputs": [
    {
     "name": "stdout",
     "output_type": "stream",
     "text": [
      "accuracy score : 0.8833333333333333\n",
      "\n",
      "classification report : \n",
      "              precision    recall  f1-score   support\n",
      "\n",
      "has disorder       0.85      0.97      0.90        34\n",
      " no disorder       0.95      0.77      0.85        26\n",
      "\n",
      " avg / total       0.89      0.88      0.88        60\n",
      "\n",
      "confusion matrix : \n",
      "[[33  1]\n",
      " [ 6 20]]\n",
      "age                            : -0.020723475580296163\n",
      "restbps                        : 0.4273077341118303\n",
      "chol                           : 0.18787882565510575\n",
      "maxheartrate                   : -0.40698388130499696\n",
      "oldpeak                        : 0.4627249723588865\n",
      "ca                             : 1.340727945522885\n",
      "sex_male                       : 1.666076228552938\n",
      "pain_atypical agina            : -0.44406204192714194\n",
      "pain_non aginal                : -1.743211491960581\n",
      "pain_typical agina             : -1.8841704023544408\n",
      "fbs_lower than 120 mg/dl       : 0.5079118405145855\n",
      "restecg_normal                 : -0.29707878529231435\n",
      "restecg_st-t wave abnormality  : 0.4196682803321642\n",
      "exang_yes                      : 0.7025878018539761\n",
      "slope_flat                     : 0.8761597373622431\n",
      "slope_unsloping                : -0.2672784360618576\n",
      "thal_6.0                       : -0.7490734690427796\n",
      "thal_7.0                       : 1.2564719748754887\n"
     ]
    }
   ],
   "source": [
    "model = LogisticRegression(fit_intercept=True, C=3.0, class_weight={1:50, 0:50})\n",
    "model.fit(X_train, y_train)\n",
    "y_predict = model.predict(X_test)\n",
    "evaluate_model(y_test, y_predict)\n",
    "\n",
    "for feature, cof in zip(list(X_train.columns), model.coef_[0]):\n",
    "    print(f'{feature.ljust(30)} : {cof}')"
   ]
  },
  {
   "cell_type": "markdown",
   "metadata": {},
   "source": [
    "LogisticRegressionCV - this is same implementation as LogisticRegression, but instead of predicting with a single C value, here we can provide an array of C values for which the model is evaluated with each C value"
   ]
  },
  {
   "cell_type": "code",
   "execution_count": 250,
   "metadata": {},
   "outputs": [
    {
     "name": "stdout",
     "output_type": "stream",
     "text": [
      "accuracy score : 0.8666666666666667\n",
      "\n",
      "classification report : \n",
      "              precision    recall  f1-score   support\n",
      "\n",
      "has disorder       0.82      0.97      0.89        34\n",
      " no disorder       0.95      0.73      0.83        26\n",
      "\n",
      " avg / total       0.88      0.87      0.86        60\n",
      "\n",
      "confusion matrix : \n",
      "[[33  1]\n",
      " [ 7 19]]\n",
      "\n",
      " optimal C value : 1.0 \n",
      "\n",
      "age                            : -0.014770888253766745\n",
      "restbps                        : 0.34833730407732116\n",
      "chol                           : 0.1468564275092248\n",
      "maxheartrate                   : -0.410336137978407\n",
      "oldpeak                        : 0.4170068687319984\n",
      "ca                             : 1.1511536360139971\n",
      "sex_male                       : 1.1628491246153363\n",
      "pain_atypical agina            : -0.2576954292353346\n",
      "pain_non aginal                : -1.1920367870907314\n",
      "pain_typical agina             : -1.0726423260038276\n",
      "fbs_lower than 120 mg/dl       : 0.4383465597266348\n",
      "restecg_normal                 : -0.2801674433592878\n",
      "restecg_st-t wave abnormality  : 0.06929201431260461\n",
      "exang_yes                      : 0.7377483578220522\n",
      "slope_flat                     : 0.5317826516267153\n",
      "slope_unsloping                : -0.3407108510822626\n",
      "thal_6.0                       : -0.26107607306534253\n",
      "thal_7.0                       : 1.1743126411205407\n"
     ]
    }
   ],
   "source": [
    "model = LogisticRegressionCV(Cs=[0.001, 0.01, 0.03, 1, 3, 10])\n",
    "model.fit(X_train, y_train)\n",
    "y_predict = model.predict(X_test)\n",
    "evaluate_model(y_test, y_predict)\n",
    "print(f'\\n optimal C value : {model.C_[0]} \\n')\n",
    "\n",
    "for feature, cof in zip(list(X_train.columns), model.coef_[0]):\n",
    "    print(f'{feature.ljust(30)} : {cof}')"
   ]
  },
  {
   "cell_type": "markdown",
   "metadata": {},
   "source": [
    "RidgeClassifier - implements regularized logistic regression with alpha as regularization parameter"
   ]
  },
  {
   "cell_type": "code",
   "execution_count": 252,
   "metadata": {},
   "outputs": [
    {
     "name": "stdout",
     "output_type": "stream",
     "text": [
      "accuracy score : 0.8833333333333333\n",
      "\n",
      "classification report : \n",
      "              precision    recall  f1-score   support\n",
      "\n",
      "has disorder       0.85      0.97      0.90        34\n",
      " no disorder       0.95      0.77      0.85        26\n",
      "\n",
      " avg / total       0.89      0.88      0.88        60\n",
      "\n",
      "confusion matrix : \n",
      "[[33  1]\n",
      " [ 6 20]]\n",
      "\n",
      " optimal C value : 10.0 \n",
      "\n",
      "age                            : 0.009883967022089157\n",
      "restbps                        : 0.08872795406788747\n",
      "chol                           : 0.008917499630917258\n",
      "maxheartrate                   : -0.1167580482881172\n",
      "oldpeak                        : 0.1072916533145542\n",
      "ca                             : 0.28820563338935073\n",
      "sex_male                       : 0.2702475181133788\n",
      "pain_atypical agina            : -0.12673646855167398\n",
      "pain_non aginal                : -0.3105296900946006\n",
      "pain_typical agina             : -0.23744090564462011\n",
      "fbs_lower than 120 mg/dl       : 0.13004763410459388\n",
      "restecg_normal                 : -0.08304758974637175\n",
      "restecg_st-t wave abnormality  : 0.03158359130674981\n",
      "exang_yes                      : 0.23518278205968096\n",
      "slope_flat                     : 0.11194125248565574\n",
      "slope_unsloping                : -0.09265205727327594\n",
      "thal_6.0                       : -0.011492772789789012\n",
      "thal_7.0                       : 0.38342210477981314\n"
     ]
    }
   ],
   "source": [
    "model = RidgeClassifierCV(alphas=(0.01, 0.03, 1, 3, 10, 30))\n",
    "model.fit(X_train, y_train)\n",
    "y_predict = model.predict(X_test)\n",
    "evaluate_model(y_test, y_predict)\n",
    "\n",
    "print(f'\\n optimal C value : {model.alpha_} \\n')\n",
    "\n",
    "for feature, cof in zip(list(X_train.columns), model.coef_[0]):\n",
    "    print(f'{feature.ljust(30)} : {cof}')"
   ]
  },
  {
   "cell_type": "markdown",
   "metadata": {},
   "source": [
    "Gaussian Naive Bayes"
   ]
  },
  {
   "cell_type": "code",
   "execution_count": 253,
   "metadata": {},
   "outputs": [
    {
     "name": "stdout",
     "output_type": "stream",
     "text": [
      "accuracy score : 0.8666666666666667\n",
      "\n",
      "classification report : \n",
      "              precision    recall  f1-score   support\n",
      "\n",
      "has disorder       0.86      0.91      0.89        34\n",
      " no disorder       0.88      0.81      0.84        26\n",
      "\n",
      " avg / total       0.87      0.87      0.87        60\n",
      "\n",
      "confusion matrix : \n",
      "[[31  3]\n",
      " [ 5 21]]\n"
     ]
    }
   ],
   "source": [
    "model = GaussianNB()\n",
    "model.fit(X_train, y_train)\n",
    "y_predict = model.predict(X_test)\n",
    "evaluate_model(y_test, y_predict)"
   ]
  },
  {
   "cell_type": "markdown",
   "metadata": {},
   "source": [
    "Support Vector machine"
   ]
  },
  {
   "cell_type": "code",
   "execution_count": 254,
   "metadata": {},
   "outputs": [
    {
     "name": "stdout",
     "output_type": "stream",
     "text": [
      "accuracy score : 0.85\n",
      "\n",
      "classification report : \n",
      "              precision    recall  f1-score   support\n",
      "\n",
      "has disorder       0.80      0.97      0.88        34\n",
      " no disorder       0.95      0.69      0.80        26\n",
      "\n",
      " avg / total       0.87      0.85      0.85        60\n",
      "\n",
      "confusion matrix : \n",
      "[[33  1]\n",
      " [ 8 18]]\n"
     ]
    }
   ],
   "source": [
    "model = SVC(C=1)\n",
    "model.fit(X_train, y_train)\n",
    "y_predict = model.predict(X_test)\n",
    "evaluate_model(y_test, y_predict)"
   ]
  },
  {
   "cell_type": "code",
   "execution_count": 255,
   "metadata": {},
   "outputs": [
    {
     "name": "stdout",
     "output_type": "stream",
     "text": [
      "accuracy score : 0.8666666666666667\n",
      "\n",
      "classification report : \n",
      "              precision    recall  f1-score   support\n",
      "\n",
      "has disorder       0.82      0.97      0.89        34\n",
      " no disorder       0.95      0.73      0.83        26\n",
      "\n",
      " avg / total       0.88      0.87      0.86        60\n",
      "\n",
      "confusion matrix : \n",
      "[[33  1]\n",
      " [ 7 19]]\n",
      "age                            : -0.0487912536654147\n",
      "restbps                        : 0.3528140426984412\n",
      "chol                           : 0.011381915531092246\n",
      "maxheartrate                   : -0.34681189495389264\n",
      "oldpeak                        : 0.3634684523599157\n",
      "ca                             : 0.8819901974307174\n",
      "sex_male                       : 0.8597452323470463\n",
      "pain_atypical agina            : -0.10638006821404447\n",
      "pain_non aginal                : -0.8050351755044343\n",
      "pain_typical agina             : -1.1438986246062561\n",
      "fbs_lower than 120 mg/dl       : 0.6918382196262871\n",
      "restecg_normal                 : 0.022287082753853937\n",
      "restecg_st-t wave abnormality  : 0.0\n",
      "exang_yes                      : 0.45728962108246773\n",
      "slope_flat                     : 0.46811597842880204\n",
      "slope_unsloping                : -0.4834431610911015\n",
      "thal_6.0                       : -0.7794547981777913\n",
      "thal_7.0                       : 1.184200308146806\n"
     ]
    }
   ],
   "source": [
    "model = SVC(C=1, kernel='linear')\n",
    "model.fit(X_train, y_train)\n",
    "y_predict = model.predict(X_test)\n",
    "evaluate_model(y_test, y_predict)\n",
    "\n",
    "for feature, cof in zip(list(X_train.columns), model.coef_[0]):\n",
    "    print(f'{feature.ljust(30)} : {cof}')"
   ]
  },
  {
   "cell_type": "markdown",
   "metadata": {},
   "source": [
    "DecisionTreeClassifier"
   ]
  },
  {
   "cell_type": "code",
   "execution_count": 256,
   "metadata": {},
   "outputs": [
    {
     "name": "stdout",
     "output_type": "stream",
     "text": [
      "accuracy score : 0.7666666666666667\n",
      "\n",
      "classification report : \n",
      "              precision    recall  f1-score   support\n",
      "\n",
      "has disorder       0.78      0.82      0.80        34\n",
      " no disorder       0.75      0.69      0.72        26\n",
      "\n",
      " avg / total       0.77      0.77      0.77        60\n",
      "\n",
      "confusion matrix : \n",
      "[[28  6]\n",
      " [ 8 18]]\n"
     ]
    }
   ],
   "source": [
    "model = DecisionTreeClassifier(max_depth=5)\n",
    "model.fit(X_train, y_train)\n",
    "y_predict = model.predict(X_test)\n",
    "evaluate_model(y_test, y_predict)"
   ]
  },
  {
   "cell_type": "markdown",
   "metadata": {},
   "source": [
    "RandomForestClassifier"
   ]
  },
  {
   "cell_type": "code",
   "execution_count": 269,
   "metadata": {},
   "outputs": [
    {
     "name": "stdout",
     "output_type": "stream",
     "text": [
      "accuracy score : 0.8333333333333334\n",
      "\n",
      "classification report : \n",
      "              precision    recall  f1-score   support\n",
      "\n",
      "has disorder       0.80      0.94      0.86        34\n",
      " no disorder       0.90      0.69      0.78        26\n",
      "\n",
      " avg / total       0.84      0.83      0.83        60\n",
      "\n",
      "confusion matrix : \n",
      "[[32  2]\n",
      " [ 8 18]]\n"
     ]
    }
   ],
   "source": [
    "model = RandomForestClassifier(max_depth=5)\n",
    "model.fit(X_train, y_train)\n",
    "y_predict = model.predict(X_test)\n",
    "evaluate_model(y_test, y_predict)"
   ]
  },
  {
   "cell_type": "code",
   "execution_count": null,
   "metadata": {},
   "outputs": [],
   "source": []
  }
 ],
 "metadata": {
  "kernelspec": {
   "display_name": "Python 3",
   "language": "python",
   "name": "python3"
  },
  "language_info": {
   "codemirror_mode": {
    "name": "ipython",
    "version": 3
   },
   "file_extension": ".py",
   "mimetype": "text/x-python",
   "name": "python",
   "nbconvert_exporter": "python",
   "pygments_lexer": "ipython3",
   "version": "3.6.6"
  }
 },
 "nbformat": 4,
 "nbformat_minor": 2
}
