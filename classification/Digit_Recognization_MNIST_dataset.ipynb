{
 "cells": [
  {
   "cell_type": "markdown",
   "metadata": {},
   "source": [
    "##### Try to classify handwritten digits of the MNIST dataset using different classification models"
   ]
  },
  {
   "cell_type": "code",
   "execution_count": 10,
   "metadata": {},
   "outputs": [],
   "source": [
    "# package import\n",
    "\n",
    "import time\n",
    "\n",
    "# numerical and visualization\n",
    "import numpy as np\n",
    "import pandas as pd\n",
    "import matplotlib.pyplot as plt\n",
    "import seaborn as sns\n",
    "%matplotlib inline\n",
    "\n",
    "# preprocessing\n",
    "from sklearn.preprocessing import StandardScaler\n",
    "from sklearn.decomposition import PCA\n",
    "\n",
    "# model creation\n",
    "from sklearn.naive_bayes import GaussianNB\n",
    "from sklearn.naive_bayes import MultinomialNB\n",
    "from sklearn.svm import SVC\n",
    "from sklearn.cluster import KMeans\n",
    "from sklearn.pipeline import Pipeline\n",
    "from sklearn.svm import SVC\n",
    "from sklearn.ensemble import RandomForestClassifier\n",
    "from sklearn.neural_network import MLPClassifier\n",
    "\n",
    "# model validation\n",
    "from sklearn.metrics import classification_report\n",
    "from sklearn.metrics import confusion_matrix\n",
    "from sklearn.metrics import accuracy_score\n",
    "from sklearn.grid_search import GridSearchCV"
   ]
  },
  {
   "cell_type": "markdown",
   "metadata": {},
   "source": [
    "The dataset is provided as two files one for train set and the other for test set"
   ]
  },
  {
   "cell_type": "code",
   "execution_count": 2,
   "metadata": {},
   "outputs": [],
   "source": [
    "train_set = pd.read_csv('data/mnist-in-csv/mnist_train.csv')\n",
    "test_set = pd.read_csv('data/mnist-in-csv/mnist_test.csv')"
   ]
  },
  {
   "cell_type": "code",
   "execution_count": 3,
   "metadata": {},
   "outputs": [
    {
     "name": "stdout",
     "output_type": "stream",
     "text": [
      "(60000, 785)\n"
     ]
    }
   ],
   "source": [
    "print(train_set.shape)"
   ]
  },
  {
   "cell_type": "code",
   "execution_count": 4,
   "metadata": {},
   "outputs": [
    {
     "name": "stdout",
     "output_type": "stream",
     "text": [
      "(10000, 785)\n"
     ]
    }
   ],
   "source": [
    "print(test_set.shape)"
   ]
  },
  {
   "cell_type": "markdown",
   "metadata": {},
   "source": [
    "The train set consists of 60000 samples and the test set consists of 10000 samples. Each sample consist of 785 columns where the first column represents the actual digit label and the remaining 784 columns represents the (28 * 28) pixel values ranging from 0 to 255 that forms the image of the digit"
   ]
  },
  {
   "cell_type": "code",
   "execution_count": 5,
   "metadata": {},
   "outputs": [
    {
     "data": {
      "text/html": [
       "<div>\n",
       "<style scoped>\n",
       "    .dataframe tbody tr th:only-of-type {\n",
       "        vertical-align: middle;\n",
       "    }\n",
       "\n",
       "    .dataframe tbody tr th {\n",
       "        vertical-align: top;\n",
       "    }\n",
       "\n",
       "    .dataframe thead th {\n",
       "        text-align: right;\n",
       "    }\n",
       "</style>\n",
       "<table border=\"1\" class=\"dataframe\">\n",
       "  <thead>\n",
       "    <tr style=\"text-align: right;\">\n",
       "      <th></th>\n",
       "      <th>label</th>\n",
       "      <th>1x1</th>\n",
       "      <th>1x2</th>\n",
       "      <th>1x3</th>\n",
       "      <th>1x4</th>\n",
       "      <th>1x5</th>\n",
       "      <th>1x6</th>\n",
       "      <th>1x7</th>\n",
       "      <th>1x8</th>\n",
       "      <th>1x9</th>\n",
       "      <th>...</th>\n",
       "      <th>28x19</th>\n",
       "      <th>28x20</th>\n",
       "      <th>28x21</th>\n",
       "      <th>28x22</th>\n",
       "      <th>28x23</th>\n",
       "      <th>28x24</th>\n",
       "      <th>28x25</th>\n",
       "      <th>28x26</th>\n",
       "      <th>28x27</th>\n",
       "      <th>28x28</th>\n",
       "    </tr>\n",
       "  </thead>\n",
       "  <tbody>\n",
       "    <tr>\n",
       "      <th>0</th>\n",
       "      <td>5</td>\n",
       "      <td>0</td>\n",
       "      <td>0</td>\n",
       "      <td>0</td>\n",
       "      <td>0</td>\n",
       "      <td>0</td>\n",
       "      <td>0</td>\n",
       "      <td>0</td>\n",
       "      <td>0</td>\n",
       "      <td>0</td>\n",
       "      <td>...</td>\n",
       "      <td>0</td>\n",
       "      <td>0</td>\n",
       "      <td>0</td>\n",
       "      <td>0</td>\n",
       "      <td>0</td>\n",
       "      <td>0</td>\n",
       "      <td>0</td>\n",
       "      <td>0</td>\n",
       "      <td>0</td>\n",
       "      <td>0</td>\n",
       "    </tr>\n",
       "    <tr>\n",
       "      <th>1</th>\n",
       "      <td>0</td>\n",
       "      <td>0</td>\n",
       "      <td>0</td>\n",
       "      <td>0</td>\n",
       "      <td>0</td>\n",
       "      <td>0</td>\n",
       "      <td>0</td>\n",
       "      <td>0</td>\n",
       "      <td>0</td>\n",
       "      <td>0</td>\n",
       "      <td>...</td>\n",
       "      <td>0</td>\n",
       "      <td>0</td>\n",
       "      <td>0</td>\n",
       "      <td>0</td>\n",
       "      <td>0</td>\n",
       "      <td>0</td>\n",
       "      <td>0</td>\n",
       "      <td>0</td>\n",
       "      <td>0</td>\n",
       "      <td>0</td>\n",
       "    </tr>\n",
       "    <tr>\n",
       "      <th>2</th>\n",
       "      <td>4</td>\n",
       "      <td>0</td>\n",
       "      <td>0</td>\n",
       "      <td>0</td>\n",
       "      <td>0</td>\n",
       "      <td>0</td>\n",
       "      <td>0</td>\n",
       "      <td>0</td>\n",
       "      <td>0</td>\n",
       "      <td>0</td>\n",
       "      <td>...</td>\n",
       "      <td>0</td>\n",
       "      <td>0</td>\n",
       "      <td>0</td>\n",
       "      <td>0</td>\n",
       "      <td>0</td>\n",
       "      <td>0</td>\n",
       "      <td>0</td>\n",
       "      <td>0</td>\n",
       "      <td>0</td>\n",
       "      <td>0</td>\n",
       "    </tr>\n",
       "    <tr>\n",
       "      <th>3</th>\n",
       "      <td>1</td>\n",
       "      <td>0</td>\n",
       "      <td>0</td>\n",
       "      <td>0</td>\n",
       "      <td>0</td>\n",
       "      <td>0</td>\n",
       "      <td>0</td>\n",
       "      <td>0</td>\n",
       "      <td>0</td>\n",
       "      <td>0</td>\n",
       "      <td>...</td>\n",
       "      <td>0</td>\n",
       "      <td>0</td>\n",
       "      <td>0</td>\n",
       "      <td>0</td>\n",
       "      <td>0</td>\n",
       "      <td>0</td>\n",
       "      <td>0</td>\n",
       "      <td>0</td>\n",
       "      <td>0</td>\n",
       "      <td>0</td>\n",
       "    </tr>\n",
       "    <tr>\n",
       "      <th>4</th>\n",
       "      <td>9</td>\n",
       "      <td>0</td>\n",
       "      <td>0</td>\n",
       "      <td>0</td>\n",
       "      <td>0</td>\n",
       "      <td>0</td>\n",
       "      <td>0</td>\n",
       "      <td>0</td>\n",
       "      <td>0</td>\n",
       "      <td>0</td>\n",
       "      <td>...</td>\n",
       "      <td>0</td>\n",
       "      <td>0</td>\n",
       "      <td>0</td>\n",
       "      <td>0</td>\n",
       "      <td>0</td>\n",
       "      <td>0</td>\n",
       "      <td>0</td>\n",
       "      <td>0</td>\n",
       "      <td>0</td>\n",
       "      <td>0</td>\n",
       "    </tr>\n",
       "  </tbody>\n",
       "</table>\n",
       "<p>5 rows × 785 columns</p>\n",
       "</div>"
      ],
      "text/plain": [
       "   label  1x1  1x2  1x3  1x4  1x5  1x6  1x7  1x8  1x9  ...    28x19  28x20  \\\n",
       "0      5    0    0    0    0    0    0    0    0    0  ...        0      0   \n",
       "1      0    0    0    0    0    0    0    0    0    0  ...        0      0   \n",
       "2      4    0    0    0    0    0    0    0    0    0  ...        0      0   \n",
       "3      1    0    0    0    0    0    0    0    0    0  ...        0      0   \n",
       "4      9    0    0    0    0    0    0    0    0    0  ...        0      0   \n",
       "\n",
       "   28x21  28x22  28x23  28x24  28x25  28x26  28x27  28x28  \n",
       "0      0      0      0      0      0      0      0      0  \n",
       "1      0      0      0      0      0      0      0      0  \n",
       "2      0      0      0      0      0      0      0      0  \n",
       "3      0      0      0      0      0      0      0      0  \n",
       "4      0      0      0      0      0      0      0      0  \n",
       "\n",
       "[5 rows x 785 columns]"
      ]
     },
     "execution_count": 5,
     "metadata": {},
     "output_type": "execute_result"
    }
   ],
   "source": [
    "train_set.head()"
   ]
  },
  {
   "cell_type": "markdown",
   "metadata": {},
   "source": [
    "we can check the distribution of the labels to check whether the dataset is biased towards any particular digit."
   ]
  },
  {
   "cell_type": "code",
   "execution_count": 6,
   "metadata": {},
   "outputs": [
    {
     "data": {
      "text/plain": [
       "<matplotlib.axes._subplots.AxesSubplot at 0x1a11134128>"
      ]
     },
     "execution_count": 6,
     "metadata": {},
     "output_type": "execute_result"
    },
    {
     "data": {
      "image/png": "[encoded data removed]",
      "text/plain": [
       "<Figure size 432x288 with 1 Axes>"
      ]
     },
     "metadata": {
      "needs_background": "light"
     },
     "output_type": "display_data"
    }
   ],
   "source": [
    "sns.countplot(x=train_set['label'])"
   ]
  },
  {
   "cell_type": "markdown",
   "metadata": {},
   "source": [
    "the given examples are mostly evenly distributed."
   ]
  },
  {
   "cell_type": "code",
   "execution_count": 7,
   "metadata": {},
   "outputs": [
    {
     "data": {
      "text/plain": [
       "1    6742\n",
       "7    6265\n",
       "3    6131\n",
       "2    5958\n",
       "9    5949\n",
       "0    5923\n",
       "6    5918\n",
       "8    5851\n",
       "4    5842\n",
       "5    5421\n",
       "Name: label, dtype: int64"
      ]
     },
     "execution_count": 7,
     "metadata": {},
     "output_type": "execute_result"
    }
   ],
   "source": [
    "train_set['label'].value_counts()"
   ]
  },
  {
   "cell_type": "markdown",
   "metadata": {},
   "source": [
    "##### visualization"
   ]
  },
  {
   "cell_type": "code",
   "execution_count": 8,
   "metadata": {},
   "outputs": [],
   "source": [
    "idx = np.random.randint(0, 1000, 16)"
   ]
  },
  {
   "cell_type": "code",
   "execution_count": 9,
   "metadata": {},
   "outputs": [],
   "source": [
    "def display_img(X):\n",
    "    fig, ax = plt.subplots(4, 4, figsize = (8, 8))\n",
    "\n",
    "    for i, axi in enumerate(ax.flat):\n",
    "        img = X.iloc[i][1:].values.reshape((28, 28))\n",
    "        axi.imshow(img, cmap='gray')\n",
    "        axi.set_title(f'digit : {X.iloc[i][0]}')\n",
    "        axi.set(xticks=[], yticks=[])"
   ]
  },
  {
   "cell_type": "code",
   "execution_count": 10,
   "metadata": {},
   "outputs": [
    {
     "data": {
      "image/png": "[encoded data removed]",
      "text/plain": [
       "<Figure size 576x576 with 16 Axes>"
      ]
     },
     "metadata": {},
     "output_type": "display_data"
    }
   ],
   "source": [
    "display_img(train_set.iloc[idx])"
   ]
  },
  {
   "cell_type": "code",
   "execution_count": 11,
   "metadata": {},
   "outputs": [
    {
     "data": {
      "image/png": "[encoded data removed]",
      "text/plain": [
       "<Figure size 576x576 with 16 Axes>"
      ]
     },
     "metadata": {},
     "output_type": "display_data"
    }
   ],
   "source": [
    "display_img(test_set.iloc[idx])"
   ]
  },
  {
   "cell_type": "markdown",
   "metadata": {},
   "source": [
    "##### preprocessing"
   ]
  },
  {
   "cell_type": "markdown",
   "metadata": {},
   "source": [
    "lets us seperate the data set into feature and target."
   ]
  },
  {
   "cell_type": "code",
   "execution_count": 3,
   "metadata": {},
   "outputs": [],
   "source": [
    "X_train = train_set.iloc[:, 1:]\n",
    "X_test  = test_set.iloc[:, 1:]\n",
    "y_train = train_set.iloc[:, 0]\n",
    "y_test  = test_set.iloc[:, 0]"
   ]
  },
  {
   "cell_type": "markdown",
   "metadata": {},
   "source": [
    "as our feature values are in the range of 0 to 255 , we have to bring the values to a similar scale."
   ]
  },
  {
   "cell_type": "code",
   "execution_count": 4,
   "metadata": {},
   "outputs": [],
   "source": [
    "# scaler = StandardScaler()\n",
    "# X_train = scaler.fit_transform(X_train)\n",
    "# X_test = scaler.fit_transform(X_test)\n",
    "\n",
    "X_train /= 255.0\n",
    "X_test /= 255.0"
   ]
  },
  {
   "cell_type": "markdown",
   "metadata": {},
   "source": [
    "##### model creation"
   ]
  },
  {
   "cell_type": "code",
   "execution_count": 5,
   "metadata": {},
   "outputs": [],
   "source": [
    "# method to evaluate the model performance\n",
    "\n",
    "def evaluate_model(y_predict, y_test, model):\n",
    "    print(f'model used : {model}')\n",
    "    print('classfication_report')\n",
    "    print(classification_report(y_predict, y_test))\n",
    "    print('confusion matrix : ')\n",
    "    print(confusion_matrix(y_predict, y_test))\n",
    "    print('accuray : ', accuracy_score(y_predict, y_test))\n",
    "    print('___' * 30)\n",
    "    print()"
   ]
  },
  {
   "cell_type": "code",
   "execution_count": 6,
   "metadata": {},
   "outputs": [],
   "source": [
    "# utility method the check for different types of algorithms.\n",
    "\n",
    "def fit_model(model, model_name , X_train, y_train, X_test, y_test):\n",
    "    \n",
    "    s_time = time.time()\n",
    "    model.fit(X_train, y_train)\n",
    "    y_predict = model.predict(X_test)\n",
    "    print(f'time taken is : {time.time() - s_time}')\n",
    "    evaluate_model(y_predict, y_test, model_name)\n",
    "    "
   ]
  },
  {
   "cell_type": "markdown",
   "metadata": {},
   "source": [
    "#### GaussianNB"
   ]
  },
  {
   "cell_type": "code",
   "execution_count": 64,
   "metadata": {},
   "outputs": [
    {
     "name": "stdout",
     "output_type": "stream",
     "text": [
      "time taken is : 3.874485969543457\n",
      "model used : Gaussian\n",
      "classfication_report\n",
      "             precision    recall  f1-score   support\n",
      "\n",
      "          0       0.89      0.79      0.84      1101\n",
      "          1       0.95      0.85      0.90      1276\n",
      "          2       0.26      0.90      0.40       294\n",
      "          3       0.35      0.71      0.47       498\n",
      "          4       0.17      0.88      0.29       190\n",
      "          5       0.05      0.55      0.09        80\n",
      "          6       0.93      0.65      0.77      1377\n",
      "          7       0.27      0.88      0.42       319\n",
      "          8       0.67      0.28      0.40      2280\n",
      "          9       0.95      0.37      0.53      2585\n",
      "\n",
      "avg / total       0.78      0.56      0.59     10000\n",
      "\n",
      "confusion matrix : \n",
      "[[ 870    0   79   32   19   71   12    0   13    5]\n",
      " [   0 1079   25   39    2   25   12   15   72    7]\n",
      " [   3    2  266    6    5    1    3    2    3    3]\n",
      " [   5    1   91  353    4   20    1   10    7    6]\n",
      " [   2    0    5    2  168    3    1    5    3    1]\n",
      " [   5    0    2    3    7   44    7    1   11    0]\n",
      " [  31   10  269   51   63   40  895    5   12    1]\n",
      " [   1    0    4    8    7    2    0  280    4   13]\n",
      " [  35   38  271  409  210  586   26   39  648   18]\n",
      " [  28    5   20  107  497  100    1  671  201  955]]\n",
      "accuray :  0.5558\n",
      "__________________________________________________________________________________________\n",
      "\n"
     ]
    }
   ],
   "source": [
    "fit_model(GaussianNB(), 'Gaussian', X_train, y_train, X_test, y_test)"
   ]
  },
  {
   "cell_type": "markdown",
   "metadata": {},
   "source": [
    "#### MultinomialNB - we can assume that each image is made of 784 symbols and each symbol value represents the frequency of that symbol"
   ]
  },
  {
   "cell_type": "code",
   "execution_count": 65,
   "metadata": {},
   "outputs": [
    {
     "name": "stdout",
     "output_type": "stream",
     "text": [
      "time taken is : 0.22680926322937012\n",
      "model used : MultinomialNB with alpha 1\n",
      "classfication_report\n",
      "             precision    recall  f1-score   support\n",
      "\n",
      "          0       0.93      0.92      0.93       987\n",
      "          1       0.93      0.91      0.92      1165\n",
      "          2       0.83      0.90      0.86       955\n",
      "          3       0.84      0.80      0.82      1071\n",
      "          4       0.74      0.84      0.79       866\n",
      "          5       0.66      0.87      0.75       677\n",
      "          6       0.90      0.89      0.89       970\n",
      "          7       0.84      0.93      0.88       922\n",
      "          8       0.80      0.66      0.72      1174\n",
      "          9       0.85      0.71      0.77      1213\n",
      "\n",
      "avg / total       0.84      0.84      0.83     10000\n",
      "\n",
      "confusion matrix : \n",
      "[[ 912    0   15    4    2   23   18    1    6    6]\n",
      " [   0 1061   11   11    2   12   13   21   26    8]\n",
      " [   2    5  858   34    6    6   17   11   13    3]\n",
      " [   6    9   24  852    0  108    1    5   55   11]\n",
      " [   1    0   10    1  731   18    8   18   14   65]\n",
      " [   8    1    3   19    0  586   24    0   27    9]\n",
      " [  14    6   32    7   25   17  859    1    8    1]\n",
      " [   1    0   12   14    1    6    0  861    9   18]\n",
      " [  36   52   66   41   38   79   18   41  776   27]\n",
      " [   0    1    1   27  177   37    0   69   40  861]]\n",
      "accuray :  0.8357\n",
      "__________________________________________________________________________________________\n",
      "\n",
      "time taken is : 0.1711101531982422\n",
      "model used : MultinomialNB with alpha 0\n",
      "classfication_report\n",
      "             precision    recall  f1-score   support\n",
      "\n",
      "          0       0.93      0.93      0.93       985\n",
      "          1       0.93      0.91      0.92      1164\n",
      "          2       0.83      0.90      0.87       958\n",
      "          3       0.85      0.80      0.82      1074\n",
      "          4       0.74      0.84      0.79       866\n",
      "          5       0.66      0.86      0.75       681\n",
      "          6       0.90      0.89      0.89       971\n",
      "          7       0.84      0.93      0.88       922\n",
      "          8       0.80      0.66      0.72      1168\n",
      "          9       0.85      0.71      0.78      1211\n",
      "\n",
      "avg / total       0.84      0.84      0.84     10000\n",
      "\n",
      "confusion matrix : \n",
      "[[ 912    0   15    4    2   23   16    1    6    6]\n",
      " [   0 1061   11   11    2   11   13   21   26    8]\n",
      " [   2    5  861   34    6    6   17   11   13    3]\n",
      " [   6    9   23  854    1  109    1    5   55   11]\n",
      " [   1    0   10    2  731   18    6   18   14   66]\n",
      " [   8    1    3   17    0  589   25    1   27   10]\n",
      " [  14    6   31    7   25   17  862    1    8    0]\n",
      " [   1    0   11   14    2    6    0  861    9   18]\n",
      " [  36   52   66   40   38   77   18   39  776   26]\n",
      " [   0    1    1   27  175   36    0   70   40  861]]\n",
      "accuray :  0.8368\n",
      "__________________________________________________________________________________________\n",
      "\n"
     ]
    },
    {
     "name": "stderr",
     "output_type": "stream",
     "text": [
      "/Users/sivabalanm/anaconda3/lib/python3.6/site-packages/sklearn/naive_bayes.py:472: UserWarning: alpha too small will result in numeric errors, setting alpha = 1.0e-10\n",
      "  'setting alpha = %.1e' % _ALPHA_MIN)\n"
     ]
    }
   ],
   "source": [
    "for alpha in (1, 0):\n",
    "    fit_model(MultinomialNB(alpha=alpha), 'MultinomialNB with alpha '+str(alpha), X_train, y_train, X_test, y_test)"
   ]
  },
  {
   "cell_type": "markdown",
   "metadata": {},
   "source": [
    "#### PCA"
   ]
  },
  {
   "cell_type": "code",
   "execution_count": 7,
   "metadata": {},
   "outputs": [
    {
     "data": {
      "text/plain": [
       "PCA(copy=True, iterated_power='auto', n_components=0.95, random_state=None,\n",
       "  svd_solver='auto', tol=0.0, whiten=False)"
      ]
     },
     "execution_count": 7,
     "metadata": {},
     "output_type": "execute_result"
    }
   ],
   "source": [
    "pca = PCA(0.95)\n",
    "pca.fit(X_train) # first fit pca to train set to get the n_components. then transform both train and test set"
   ]
  },
  {
   "cell_type": "code",
   "execution_count": 8,
   "metadata": {},
   "outputs": [
    {
     "data": {
      "text/plain": [
       "154"
      ]
     },
     "execution_count": 8,
     "metadata": {},
     "output_type": "execute_result"
    }
   ],
   "source": [
    "pca.n_components_"
   ]
  },
  {
   "cell_type": "markdown",
   "metadata": {},
   "source": [
    "this means 95% of the variance in our dataset can be preserved by have 154 dimensions out of our 784 dimensions"
   ]
  },
  {
   "cell_type": "code",
   "execution_count": 9,
   "metadata": {},
   "outputs": [],
   "source": [
    "X_train_trans = pca.transform(X_train)\n",
    "X_test_trans = pca.transform(X_test)"
   ]
  },
  {
   "cell_type": "code",
   "execution_count": 70,
   "metadata": {},
   "outputs": [
    {
     "name": "stdout",
     "output_type": "stream",
     "text": [
      "time taken is : 0.4348158836364746\n",
      "model used : GaussianNB after PCA\n",
      "classfication_report\n",
      "             precision    recall  f1-score   support\n",
      "\n",
      "          0       0.92      0.94      0.93       960\n",
      "          1       0.95      0.98      0.96      1093\n",
      "          2       0.84      0.72      0.78      1199\n",
      "          3       0.85      0.81      0.83      1069\n",
      "          4       0.85      0.89      0.87       937\n",
      "          5       0.85      0.83      0.84       907\n",
      "          6       0.89      0.94      0.91       905\n",
      "          7       0.82      0.92      0.87       926\n",
      "          8       0.86      0.86      0.86       970\n",
      "          9       0.84      0.82      0.83      1034\n",
      "\n",
      "avg / total       0.87      0.87      0.87     10000\n",
      "\n",
      "confusion matrix : \n",
      "[[ 899    3   15    3    0    5    8    4   13   10]\n",
      " [   0 1073    0    0    0    0    1   17    0    2]\n",
      " [  51    5  865   45   45   17   55   46   36   34]\n",
      " [   2    7   75  862    1   60    2   14   37    9]\n",
      " [   0   13    8    1  834    5    8   19    3   46]\n",
      " [  17    5    6   32    2  756   35   14   23   17]\n",
      " [   6   13    6    3    8    9  848    4    5    3]\n",
      " [   0    5   11   18    3    2    0  848    7   32]\n",
      " [   4   10   42   22    7   25    1   14  834   11]\n",
      " [   1    1    4   24   82   13    0   48   16  845]]\n",
      "accuray :  0.8664\n",
      "__________________________________________________________________________________________\n",
      "\n"
     ]
    }
   ],
   "source": [
    "fit_model(GaussianNB(), 'GaussianNB after PCA', X_train_trans, y_train, X_test_trans, y_test)"
   ]
  },
  {
   "cell_type": "markdown",
   "metadata": {},
   "source": [
    "multinomialNB with PCA was giving error as our dataset contains negative values after transformation and frequency cannot be a negative value"
   ]
  },
  {
   "cell_type": "markdown",
   "metadata": {},
   "source": [
    "#### Kmeans"
   ]
  },
  {
   "cell_type": "code",
   "execution_count": 73,
   "metadata": {},
   "outputs": [
    {
     "name": "stdout",
     "output_type": "stream",
     "text": [
      "time taken is : 108.07987713813782\n",
      "model used : Kmeans\n",
      "classfication_report\n",
      "             precision    recall  f1-score   support\n",
      "\n",
      "          0       0.02      0.02      0.02      1093\n",
      "          1       0.00      0.00      0.00      1427\n",
      "          2       0.02      0.03      0.03       929\n",
      "          3       0.02      0.03      0.02       547\n",
      "          4       0.00      0.00      0.00      1314\n",
      "          5       0.06      0.04      0.05      1550\n",
      "          6       0.02      0.02      0.02       799\n",
      "          7       0.00      0.00      0.00       495\n",
      "          8       0.03      0.03      0.03       996\n",
      "          9       0.01      0.01      0.01       850\n",
      "\n",
      "avg / total       0.02      0.02      0.02     10000\n",
      "\n",
      "confusion matrix : \n",
      "[[ 17   1  28 145   4 278  18   1 588  13]\n",
      " [  3   0  11   7 310  71   1 602  35 387]\n",
      " [ 30   2  25   7  36  19 795   1  10   4]\n",
      " [421   0  20  19   1  40  24   1  11  10]\n",
      " [ 48   2  64 696   0 287   2   0 208   7]\n",
      " [  4   0  30  15 559  56  22 292  31 541]\n",
      " [  2   1 707  40   5   4  18  13   6   3]\n",
      " [450   0   3   1   1   9  20   1   6   4]\n",
      " [  0 661  60  73  30  23  27  59  34  29]\n",
      " [  5 468  84   7  36 105  31  58  45  11]]\n",
      "accuray :  0.0181\n",
      "__________________________________________________________________________________________\n",
      "\n"
     ]
    }
   ],
   "source": [
    "fit_model(KMeans(n_clusters=10, verbose=0, random_state=40), 'Kmeans', X_train, y_train, X_test, y_test)"
   ]
  },
  {
   "cell_type": "markdown",
   "metadata": {},
   "source": [
    "kmeans on our original dataset is not providing good performance. We will try Kmeans with PCA transformed dataset."
   ]
  },
  {
   "cell_type": "code",
   "execution_count": 74,
   "metadata": {},
   "outputs": [
    {
     "name": "stdout",
     "output_type": "stream",
     "text": [
      "time taken is : 21.622272968292236\n",
      "model used : Kmeans with PCA\n",
      "classfication_report\n",
      "             precision    recall  f1-score   support\n",
      "\n",
      "          0       0.01      0.01      0.01       856\n",
      "          1       0.00      0.00      0.00      1546\n",
      "          2       0.03      0.03      0.03      1092\n",
      "          3       0.69      0.53      0.60      1311\n",
      "          4       0.04      0.04      0.04       929\n",
      "          5       0.08      0.05      0.06      1426\n",
      "          6       0.02      0.02      0.02       800\n",
      "          7       0.06      0.06      0.06       995\n",
      "          8       0.01      0.01      0.01       496\n",
      "          9       0.01      0.02      0.01       549\n",
      "\n",
      "avg / total       0.12      0.09      0.10     10000\n",
      "\n",
      "confusion matrix : \n",
      "[[  5 468  84   7  38 108  31  58  46  11]\n",
      " [  4   0  30  15 557  55  21 292  31 541]\n",
      " [ 17   1  28 146   4 278  18   1 586  13]\n",
      " [ 48   2  64 694   0 287   3   0 206   7]\n",
      " [ 30   2  25   7  36  19 795   1  10   4]\n",
      " [  3   0  11   7 311  68   1 602  36 387]\n",
      " [  2   1 707  40   5   4  18  13   7   3]\n",
      " [  0 661  60  73  29  23  27  59  34  29]\n",
      " [451   0   3   1   1   9  20   1   6   4]\n",
      " [420   0  20  20   1  41  24   1  12  10]]\n",
      "accuray :  0.0924\n",
      "__________________________________________________________________________________________\n",
      "\n"
     ]
    }
   ],
   "source": [
    "fit_model(KMeans(n_clusters=10, random_state=40), 'Kmeans with PCA', X_train_trans, y_train, X_test_trans, y_test)"
   ]
  },
  {
   "cell_type": "markdown",
   "metadata": {},
   "source": [
    "the transformation did not help. lets try finding the 10 principal components of our dataset using pca and apply kmeans on it"
   ]
  },
  {
   "cell_type": "code",
   "execution_count": 76,
   "metadata": {},
   "outputs": [
    {
     "name": "stdout",
     "output_type": "stream",
     "text": [
      "time taken is : 14.224168062210083\n",
      "model used : kmeans on 10 principal components\n",
      "classfication_report\n",
      "             precision    recall  f1-score   support\n",
      "\n",
      "          0       0.37      0.66      0.48       557\n",
      "          1       0.00      0.00      0.00      1535\n",
      "          2       0.01      0.01      0.01       562\n",
      "          3       0.00      0.00      0.00       883\n",
      "          4       0.05      0.06      0.05       841\n",
      "          5       0.25      0.23      0.24       996\n",
      "          6       0.07      0.05      0.06      1217\n",
      "          7       0.01      0.02      0.01       807\n",
      "          8       0.04      0.03      0.04      1339\n",
      "          9       0.01      0.01      0.01      1263\n",
      "\n",
      "avg / total       0.07      0.08      0.07     10000\n",
      "\n",
      "confusion matrix : \n",
      "[[366   0  22  22   1  89  34   1  13   9]\n",
      " [  4   0  24  17 553  61  26 286  27 537]\n",
      " [512   0   6   0   2  12  16   1  10   3]\n",
      " [ 26   1  32   4  45  12 745   1  13   4]\n",
      " [  4 489  51   9  47 106  16  51  56  12]\n",
      " [ 11   1  31 142   2 226  10   1 555  17]\n",
      " [  4 641  95  91  46  58  63  96  68  55]\n",
      " [  3   1 686  38   2   3  43  13  15   3]\n",
      " [  1   0  11   8 284  52   1 578  42 362]\n",
      " [ 49   2  74 679   0 273   4   0 175   7]]\n",
      "accuray :  0.0774\n",
      "__________________________________________________________________________________________\n",
      "\n"
     ]
    }
   ],
   "source": [
    "pca1 = PCA(n_components=10)\n",
    "kmeans = KMeans(n_clusters=10, random_state=40)\n",
    "pipeline = Pipeline([ ('pca', pca1), ('kmeans', kmeans)])\n",
    "fit_model(pipeline, 'kmeans on 10 principal components', X_train, y_train, X_test, y_test)"
   ]
  },
  {
   "cell_type": "markdown",
   "metadata": {},
   "source": [
    "#### SVM"
   ]
  },
  {
   "cell_type": "markdown",
   "metadata": {},
   "source": [
    "lets try both linear and rbg kernels."
   ]
  },
  {
   "cell_type": "code",
   "execution_count": 10,
   "metadata": {},
   "outputs": [
    {
     "name": "stdout",
     "output_type": "stream",
     "text": [
      "time taken is : 249.75179195404053\n",
      "model used : svm with kernel : linear\n",
      "classfication_report\n",
      "             precision    recall  f1-score   support\n",
      "\n",
      "          0       0.98      0.96      0.97      1005\n",
      "          1       0.99      0.97      0.98      1151\n",
      "          2       0.94      0.92      0.93      1057\n",
      "          3       0.93      0.91      0.92      1034\n",
      "          4       0.96      0.94      0.95      1002\n",
      "          5       0.90      0.93      0.91       869\n",
      "          6       0.95      0.97      0.96       945\n",
      "          7       0.94      0.95      0.94      1010\n",
      "          8       0.92      0.93      0.92       956\n",
      "          9       0.91      0.95      0.93       971\n",
      "\n",
      "avg / total       0.94      0.94      0.94     10000\n",
      "\n",
      "confusion matrix : \n",
      "[[ 962    0    7    4    0   11   10    1    5    5]\n",
      " [   0 1122    6    1    1    4    2    6    5    4]\n",
      " [   3    3  973   16    7    6   13   26    8    2]\n",
      " [   3    3    9  943    1   34    1    5   24   11]\n",
      " [   1    0    5    1  940    3    4   10    6   32]\n",
      " [   5    1    2   16    2  805   15    0   19    4]\n",
      " [   4    0    8    1    4    9  912    0    7    0]\n",
      " [   0    2    7   10    2    0    0  962    6   21]\n",
      " [   1    4   13   16    4   18    1    0  892    7]\n",
      " [   1    0    2    2   21    2    0   18    2  923]]\n",
      "accuray :  0.9434\n",
      "__________________________________________________________________________________________\n",
      "\n",
      "time taken is : 102.50177907943726\n",
      "model used : svm with kernel : rbf\n",
      "classfication_report\n",
      "             precision    recall  f1-score   support\n",
      "\n",
      "          0       0.99      0.98      0.98       992\n",
      "          1       0.99      0.99      0.99      1141\n",
      "          2       0.98      0.98      0.98      1035\n",
      "          3       0.98      0.97      0.98      1015\n",
      "          4       0.98      0.98      0.98       983\n",
      "          5       0.97      0.98      0.98       881\n",
      "          6       0.99      0.98      0.98       959\n",
      "          7       0.97      0.97      0.97      1025\n",
      "          8       0.97      0.97      0.97       975\n",
      "          9       0.96      0.98      0.97       994\n",
      "\n",
      "avg / total       0.98      0.98      0.98     10000\n",
      "\n",
      "confusion matrix : \n",
      "[[ 971    0    5    0    0    4    5    1    3    3]\n",
      " [   0 1126    2    0    0    0    2    8    0    3]\n",
      " [   0    3 1010    4    5    0    0   10    2    1]\n",
      " [   0    1    1  988    0   10    0    2    6    7]\n",
      " [   0    0    2    0  961    1    2    1    4   12]\n",
      " [   4    1    0    4    0  865    4    0    2    1]\n",
      " [   2    1    1    0    3    4  944    0    3    1]\n",
      " [   1    1    7    5    0    1    0  999    4    7]\n",
      " [   2    2    4    7    1    5    1    1  948    4]\n",
      " [   0    0    0    2   12    2    0    6    2  970]]\n",
      "accuray :  0.9782\n",
      "__________________________________________________________________________________________\n",
      "\n"
     ]
    }
   ],
   "source": [
    "for kernel in ('linear', 'rbf'):\n",
    "    fit_model(SVC(C = 3, kernel=kernel), 'svm with kernel : '+kernel, X_train_trans, y_train, X_test_trans, y_test )"
   ]
  },
  {
   "cell_type": "markdown",
   "metadata": {},
   "source": [
    "as expected rbf kernel is performing well with our data that linear kernel as rbf if more suitable complex non-linear classification as in case of our dataset.We can play around with the parameters C and gamma to try improving the model.We can also use GridSearchCV to evaluate all possibile combination. In my case i think my system has low configuration that running GridsearchCV is getting struck and not giving any o/p"
   ]
  },
  {
   "cell_type": "markdown",
   "metadata": {},
   "source": [
    "#### Random forest"
   ]
  },
  {
   "cell_type": "code",
   "execution_count": 9,
   "metadata": {},
   "outputs": [
    {
     "name": "stdout",
     "output_type": "stream",
     "text": [
      "time taken is : 6.073622941970825\n",
      "model used : randomforestclassifier\n",
      "classfication_report\n",
      "             precision    recall  f1-score   support\n",
      "\n",
      "          0       0.98      0.96      0.97      1009\n",
      "          1       0.99      0.98      0.98      1142\n",
      "          2       0.95      0.95      0.95      1033\n",
      "          3       0.94      0.93      0.93      1027\n",
      "          4       0.96      0.95      0.95       991\n",
      "          5       0.93      0.94      0.93       882\n",
      "          6       0.96      0.97      0.97       950\n",
      "          7       0.95      0.95      0.95      1028\n",
      "          8       0.92      0.93      0.93       960\n",
      "          9       0.92      0.95      0.93       978\n",
      "\n",
      "avg / total       0.95      0.95      0.95     10000\n",
      "\n",
      "confusion matrix : \n",
      "[[ 964    1    8    6    1    8    8    0    6    7]\n",
      " [   1 1121    1    1    2    1    4    4    1    6]\n",
      " [   3    2  979   11    4    1    5   16   10    2]\n",
      " [   1    3    7  950    3   28    0    3   15   17]\n",
      " [   0    1    5    0  938    4    7    3    9   24]\n",
      " [   3    2    4   17    1  827    9    2   15    2]\n",
      " [   3    2    3    1    7    6  921    0    5    2]\n",
      " [   2    0   10   11    3    3    0  979    6   14]\n",
      " [   3    2   12    9    9    8    4    7  896   10]\n",
      " [   0    1    3    4   14    6    0   14   11  925]]\n",
      "accuray :  0.95\n",
      "__________________________________________________________________________________________\n",
      "\n"
     ]
    }
   ],
   "source": [
    "fit_model(RandomForestClassifier(), 'randomforestclassifier', X_train, y_train, X_test, y_test)"
   ]
  },
  {
   "cell_type": "code",
   "execution_count": 15,
   "metadata": {},
   "outputs": [
    {
     "name": "stdout",
     "output_type": "stream",
     "text": [
      "time taken is : 10.76217007637024\n",
      "model used : randomforestclassifier\n",
      "classfication_report\n",
      "             precision    recall  f1-score   support\n",
      "\n",
      "          0       0.97      0.89      0.93      1069\n",
      "          1       0.98      0.97      0.97      1147\n",
      "          2       0.89      0.87      0.88      1062\n",
      "          3       0.88      0.84      0.86      1061\n",
      "          4       0.91      0.86      0.88      1035\n",
      "          5       0.84      0.87      0.85       858\n",
      "          6       0.92      0.94      0.93       935\n",
      "          7       0.89      0.93      0.91       990\n",
      "          8       0.82      0.88      0.85       900\n",
      "          9       0.85      0.90      0.87       943\n",
      "\n",
      "avg / total       0.90      0.90      0.90     10000\n",
      "\n",
      "confusion matrix : \n",
      "[[ 952    4   19   13    5   23   21    6   15   11]\n",
      " [   0 1112    6    3    5    2    4   10    1    4]\n",
      " [   5    6  919   27   16   20   14   20   29    6]\n",
      " [   4    2   22  889    9   59    6    8   47   15]\n",
      " [   1    0   12    3  891    5   12   29   16   66]\n",
      " [   4    1    2   34    3  745   16    4   37   12]\n",
      " [   5    4    7    4    9   10  882    1   10    3]\n",
      " [   2    1   13    8    6    5    1  917    8   29]\n",
      " [   7    5   30   24    5   17    1    6  795   10]\n",
      " [   0    0    2    5   33    6    1   27   16  853]]\n",
      "accuray :  0.8955\n",
      "__________________________________________________________________________________________\n",
      "\n"
     ]
    }
   ],
   "source": [
    "# lets try it on our transformed dataset \n",
    "fit_model(RandomForestClassifier(), 'randomforestclassifier', X_train_trans, y_train, X_test_trans, y_test)"
   ]
  },
  {
   "cell_type": "markdown",
   "metadata": {},
   "source": [
    "random forest performs well with many features as it will be able to create highly uncorrelated decision trees with subsets of different features and would thus end up in a better model when aggregating these trees."
   ]
  },
  {
   "cell_type": "markdown",
   "metadata": {},
   "source": [
    "#### Neural networks"
   ]
  },
  {
   "cell_type": "code",
   "execution_count": 14,
   "metadata": {},
   "outputs": [
    {
     "name": "stdout",
     "output_type": "stream",
     "text": [
      "time taken is : 90.60343098640442\n",
      "model used : MLP classifier\n",
      "classfication_report\n",
      "             precision    recall  f1-score   support\n",
      "\n",
      "          0       0.99      0.97      0.98      1001\n",
      "          1       0.99      0.98      0.99      1147\n",
      "          2       0.97      0.97      0.97      1025\n",
      "          3       0.96      0.98      0.97       998\n",
      "          4       0.99      0.97      0.98      1000\n",
      "          5       0.97      0.97      0.97       895\n",
      "          6       0.98      0.97      0.98       972\n",
      "          7       0.97      0.97      0.97      1027\n",
      "          8       0.95      0.97      0.96       955\n",
      "          9       0.96      0.99      0.97       980\n",
      "\n",
      "avg / total       0.97      0.97      0.97     10000\n",
      "\n",
      "confusion matrix : \n",
      "[[ 972    0    5    1    0    3    3    1   12    4]\n",
      " [   0 1124    2    1    0    1    2    8    2    7]\n",
      " [   0    4  996    9    2    0    1   11    2    0]\n",
      " [   0    0    3  974    0    6    1    2    6    6]\n",
      " [   0    0    6    2  970    2    3    2    7    8]\n",
      " [   1    0    0   11    1  868    4    0    4    6]\n",
      " [   4    3    6    2    3    7  942    0    4    1]\n",
      " [   1    1   10    2    1    1    0 1000    4    7]\n",
      " [   2    3    3    5    2    4    2    0  930    4]\n",
      " [   0    0    1    3    3    0    0    4    3  966]]\n",
      "accuray :  0.9742\n",
      "__________________________________________________________________________________________\n",
      "\n"
     ]
    }
   ],
   "source": [
    "fit_model(MLPClassifier(hidden_layer_sizes=(100,)), 'MLP classifier', X_train, y_train, X_test, y_test)"
   ]
  },
  {
   "cell_type": "markdown",
   "metadata": {},
   "source": [
    "considering the accuracy and execution score , MLPClassifier provides a better result for our digit classification problem.\n",
    "I am just a beginner in ML, so do provide your suggestion on any improvisations on the way this problem can be approached.thank you"
   ]
  },
  {
   "cell_type": "code",
   "execution_count": null,
   "metadata": {},
   "outputs": [],
   "source": []
  }
 ],
 "metadata": {
  "kernelspec": {
   "display_name": "Python 3",
   "language": "python",
   "name": "python3"
  },
  "language_info": {
   "codemirror_mode": {
    "name": "ipython",
    "version": 3
   },
   "file_extension": ".py",
   "mimetype": "text/x-python",
   "name": "python",
   "nbconvert_exporter": "python",
   "pygments_lexer": "ipython3",
   "version": "3.6.6"
  }
 },
 "nbformat": 4,
 "nbformat_minor": 2
}
